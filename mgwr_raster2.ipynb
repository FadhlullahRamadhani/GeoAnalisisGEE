{
 "cells": [
  {
   "cell_type": "code",
   "execution_count": 1,
   "metadata": {},
   "outputs": [],
   "source": [
    "import os\n",
    "import sys\n",
    "import time\n",
    "import argparse\n",
    "import geopandas as gpd\n",
    "import fiona\n",
    "import rasterio as rio\n",
    "from rasterstats import zonal_stats\n",
    "import numpy as np\n",
    "import pandas as pd\n",
    "import matplotlib.pyplot as plt\n",
    "from mgwr.gwr import MGWR\n",
    "from mgwr.sel_bw import Sel_BW\n",
    "from mgwr.utils import shift_colormap, truncate_colormap\n",
    "from datetime import datetime\n",
    "import glob\n",
    "import pathlib\n"
   ]
  },
  {
   "cell_type": "code",
   "execution_count": 2,
   "metadata": {},
   "outputs": [
    {
     "name": "stdout",
     "output_type": "stream",
     "text": [
      "e:\\citarum\\GeoAnalisisGEE\n"
     ]
    }
   ],
   "source": [
    "folder_root = os.getcwd()\n",
    "print(folder_root);"
   ]
  },
  {
   "cell_type": "code",
   "execution_count": 3,
   "metadata": {},
   "outputs": [
    {
     "name": "stdout",
     "output_type": "stream",
     "text": [
      "e:\\citarum\\GeoAnalisisGEE\\input\\vektor\\batas_desa_citarum_48S.shp\n"
     ]
    }
   ],
   "source": [
    "desa_polygon_file = os.path.join(folder_root, 'input', 'vektor', 'batas_desa_citarum_48S.shp')\n",
    "print(desa_polygon_file)\n",
    "gdf = gpd.read_file(desa_polygon_file)\n",
    "\n",
    "crs = gdf.crs\n",
    "gdf['x_utm'] = gdf.centroid.x\n",
    "gdf['y_utm'] = gdf.centroid.y"
   ]
  },
  {
   "cell_type": "code",
   "execution_count": 39,
   "metadata": {},
   "outputs": [
    {
     "name": "stdout",
     "output_type": "stream",
     "text": [
      "                                                   0\n",
      "0  e:\\citarum\\GeoAnalisisGEE\\input\\raster\\2020_de...\n",
      "1  e:\\citarum\\GeoAnalisisGEE\\input\\raster\\2020_de...\n",
      "2  e:\\citarum\\GeoAnalisisGEE\\input\\raster\\2020_et...\n",
      "3  e:\\citarum\\GeoAnalisisGEE\\input\\raster\\2020_fr...\n",
      "4  e:\\citarum\\GeoAnalisisGEE\\input\\raster\\2020_pa...\n",
      "5  e:\\citarum\\GeoAnalisisGEE\\input\\raster\\2020_pr...\n",
      "6\n",
      "                                        filenamelong                filename  \\\n",
      "0  e:\\citarum\\GeoAnalisisGEE\\input\\raster\\2020_de...            2020_dem.tif   \n",
      "1  e:\\citarum\\GeoAnalisisGEE\\input\\raster\\2020_de...  2020_depth_to_root.tif   \n",
      "2  e:\\citarum\\GeoAnalisisGEE\\input\\raster\\2020_et...            2020_eto.tif   \n",
      "3  e:\\citarum\\GeoAnalisisGEE\\input\\raster\\2020_fr...         2020_fractp.tif   \n",
      "4  e:\\citarum\\GeoAnalisisGEE\\input\\raster\\2020_pa...           2020_pawc.tif   \n",
      "5  e:\\citarum\\GeoAnalisisGEE\\input\\raster\\2020_pr...  2020_precipitation.tif   \n",
      "\n",
      "            parameter  \n",
      "0            2020_dem  \n",
      "1  2020_depth_to_root  \n",
      "2            2020_eto  \n",
      "3         2020_fractp  \n",
      "4           2020_pawc  \n",
      "5  2020_precipitation  \n"
     ]
    }
   ],
   "source": [
    "list_raster_file = glob.glob(os.path.join(folder_root, 'input', 'raster', '*.tif'))\n",
    "df_raster_file = pd.DataFrame(list_raster_file)\n",
    "df_raster_file = df_raster_file.astype('string')\n",
    "print(df_raster_file)\n",
    "print(len(df_raster_file))\n",
    "list(df_raster_file)\n",
    "df_raster_file.rename(columns = {0:'filenamelong'}, inplace = True)\n",
    "\n",
    "df_raster_file['filename'] = df_raster_file[\"filenamelong\"].str.split(\"\\\\\").str[-1]\n",
    "df_raster_file['parameter'] = df_raster_file[\"filename\"].str.split(\".\").str[0]\n",
    "print(df_raster_file)\n"
   ]
  },
  {
   "cell_type": "code",
   "execution_count": 42,
   "metadata": {},
   "outputs": [],
   "source": [
    "vars = []\n",
    "zstats_merged = []\n",
    "\n",
    "for ind in df_raster_file.index:\n",
    "    raster_data = rio.open(df_raster_file['filenamelong'][ind], \"r\")  \n",
    "    parameter = df_raster_file[\"parameter\"][ind]\n",
    "    print(parameter)\n",
    "    profile = raster_data.profile\n",
    "    transform = profile['transform']\n",
    "    nodata = raster_data.nodata\n",
    "\n",
    "    img = raster_data.read(1)\n",
    "    img = img.astype('float32') \n",
    "    img[img==nodata] = np.nan\n",
    "    zstats = zonal_stats(gdf, img, affine=transform, prefix= f'{parameter}_', nodata=nodata, stats='mean')\n",
    "    zstats_merged.append(zstats) # zstats_merged is now a 2D list of lists [bands, shapes]\n",
    "    vars.append(f'{parameter}_mean')\n",
    " "
   ]
  }
 ],
 "metadata": {
  "kernelspec": {
   "display_name": "mgwr38-GEEMAP",
   "language": "python",
   "name": "python3"
  },
  "language_info": {
   "codemirror_mode": {
    "name": "ipython",
    "version": 3
   },
   "file_extension": ".py",
   "mimetype": "text/x-python",
   "name": "python",
   "nbconvert_exporter": "python",
   "pygments_lexer": "ipython3",
   "version": "3.8.13"
  },
  "orig_nbformat": 4,
  "vscode": {
   "interpreter": {
    "hash": "76002033938b449d50a82131dbdce7d5f821fb1e5c6ee8a2c0e9025e7b929f8b"
   }
  }
 },
 "nbformat": 4,
 "nbformat_minor": 2
}
