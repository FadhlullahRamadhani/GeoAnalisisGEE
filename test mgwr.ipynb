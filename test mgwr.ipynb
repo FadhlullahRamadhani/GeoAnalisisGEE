{
 "cells": [
  {
   "cell_type": "markdown",
   "metadata": {},
   "source": [
    "Anaconda install instructions as of mgwr 1.0.2 and Conda 4.5:\n",
    "\n",
    "```sh\n",
    "#conda update conda\n",
    "#conda update anaconda\n",
    "#conda update scipy\n",
    "#conda install pysal \n",
    "#pip install libpysal\n",
    "#conda install mgwr\n",
    "#conda install geopandas\n",
    "```"
   ]
  },
  {
   "cell_type": "code",
   "execution_count": 1,
   "metadata": {},
   "outputs": [],
   "source": [
    "import ee\n",
    "import geemap"
   ]
  },
  {
   "cell_type": "code",
   "execution_count": 2,
   "metadata": {},
   "outputs": [
    {
     "name": "stdout",
     "output_type": "stream",
     "text": [
      "3.8.13\n"
     ]
    }
   ],
   "source": [
    "from platform import python_version\n",
    "\n",
    "print(python_version())"
   ]
  },
  {
   "cell_type": "code",
   "execution_count": 3,
   "metadata": {
    "scrolled": true
   },
   "outputs": [],
   "source": [
    "import time\n",
    "import multiprocessing as mp\n",
    "import numpy as np\n",
    "import libpysal as ps \n",
    "from mgwr.gwr import GWR, MGWR\n",
    "from mgwr.sel_bw import Sel_BW\n",
    "from mgwr.utils import shift_colormap, truncate_colormap\n",
    "import geopandas as gp\n",
    "import matplotlib.pyplot as plt\n",
    "import matplotlib as mpl\n",
    "import pandas as pd\n",
    "from sklearn import preprocessing\n"
   ]
  },
  {
   "cell_type": "code",
   "execution_count": 8,
   "metadata": {},
   "outputs": [
    {
     "name": "stdout",
     "output_type": "stream",
     "text": [
      "      FID_1          aet          dtr          eto      frac      lulc  \\\n",
      "0         0   692.132964   700.000000   958.160000  0.243163  1.240000   \n",
      "1         2   887.393250  1500.000000  1524.000000  0.387700  3.000000   \n",
      "2         3   902.069400  1383.653846  1701.352564  0.412158  8.246795   \n",
      "3         4   842.699793  1367.452830  1805.386792  0.366225  8.374214   \n",
      "4         5   877.632680  1500.000000  1694.214286  0.392621  8.264286   \n",
      "...     ...          ...          ...          ...       ...       ...   \n",
      "1204   1285   670.856243   500.000000  1888.187500  0.461129  6.000000   \n",
      "1205   1286   699.274170   500.000000  1886.216216  0.470702  7.081081   \n",
      "1206   1287   690.076712   500.000000  1866.236842  0.449414  8.131579   \n",
      "1207   1288   645.615935   500.000000  1837.322581  0.402647  8.064516   \n",
      "1208   1289  1793.268375   947.013783  1993.310873  0.837216  7.454824   \n",
      "\n",
      "          pawc       precip           wy        POINT_X       POINT_Y  POINT_Z  \n",
      "0     0.200000  2280.953203  2167.865210  720277.231652  9.256284e+06      0.0  \n",
      "1     0.110000  1536.713776  1401.493759  718911.972965  9.264175e+06      0.0  \n",
      "2     0.133269  1569.245643  1290.960195  725243.178914  9.264941e+06      0.0  \n",
      "3     0.132767  1725.301696  1463.688020  726882.849842  9.269115e+06      0.0  \n",
      "4     0.110000  1536.023498  1357.785282  722541.460491  9.267163e+06      0.0  \n",
      "...        ...          ...          ...            ...           ...      ...  \n",
      "1204  0.210000  1295.231247   783.976803  783692.926336  9.238289e+06      0.0  \n",
      "1205  0.210000  1255.046482   785.784214  782571.591792  9.238938e+06      0.0  \n",
      "1206  0.210000  1233.566053   846.956476  782125.162176  9.240843e+06      0.0  \n",
      "1207  0.210000  1222.689999   960.322956  780900.740208  9.241991e+06      0.0  \n",
      "1208  0.136279  1962.305803   357.007733  754133.043488  9.254650e+06      0.0  \n",
      "\n",
      "[1209 rows x 12 columns]\n",
      "      FID_1          aet          dtr          eto      frac      lulc  \\\n",
      "0         0   692.132964   700.000000   958.160000  0.243163  1.240000   \n",
      "1         2   887.393250  1500.000000  1524.000000  0.387700  3.000000   \n",
      "2         3   902.069400  1383.653846  1701.352564  0.412158  8.246795   \n",
      "3         4   842.699793  1367.452830  1805.386792  0.366225  8.374214   \n",
      "4         5   877.632680  1500.000000  1694.214286  0.392621  8.264286   \n",
      "...     ...          ...          ...          ...       ...       ...   \n",
      "1204   1285   670.856243   500.000000  1888.187500  0.461129  6.000000   \n",
      "1205   1286   699.274170   500.000000  1886.216216  0.470702  7.081081   \n",
      "1206   1287   690.076712   500.000000  1866.236842  0.449414  8.131579   \n",
      "1207   1288   645.615935   500.000000  1837.322581  0.402647  8.064516   \n",
      "1208   1289  1793.268375   947.013783  1993.310873  0.837216  7.454824   \n",
      "\n",
      "          pawc       precip           wy        POINT_X       POINT_Y  POINT_Z  \n",
      "0     0.200000  2280.953203  2167.865210  720277.231652  9.256284e+06      0.0  \n",
      "1     0.110000  1536.713776  1401.493759  718911.972965  9.264175e+06      0.0  \n",
      "2     0.133269  1569.245643  1290.960195  725243.178914  9.264941e+06      0.0  \n",
      "3     0.132767  1725.301696  1463.688020  726882.849842  9.269115e+06      0.0  \n",
      "4     0.110000  1536.023498  1357.785282  722541.460491  9.267163e+06      0.0  \n",
      "...        ...          ...          ...            ...           ...      ...  \n",
      "1204  0.210000  1295.231247   783.976803  783692.926336  9.238289e+06      0.0  \n",
      "1205  0.210000  1255.046482   785.784214  782571.591792  9.238938e+06      0.0  \n",
      "1206  0.210000  1233.566053   846.956476  782125.162176  9.240843e+06      0.0  \n",
      "1207  0.210000  1222.689999   960.322956  780900.740208  9.241991e+06      0.0  \n",
      "1208  0.136279  1962.305803   357.007733  754133.043488  9.254650e+06      0.0  \n",
      "\n",
      "[1209 rows x 12 columns]\n"
     ]
    }
   ],
   "source": [
    "#Load citarum dataset and generate plot of citarum counties (figure 1)\n",
    "citarum_data = pd.read_csv('desa_V1.csv')\n",
    "print(citarum_data)\n",
    "citarum_data = citarum_data[(citarum_data['wy']>0)]\n",
    "citarum_data = citarum_data.dropna()\n",
    "print(citarum_data)\n",
    "\n",
    "\n"
   ]
  },
  {
   "cell_type": "code",
   "execution_count": 9,
   "metadata": {},
   "outputs": [
    {
     "data": {
      "text/html": [
       "<div>\n",
       "<style scoped>\n",
       "    .dataframe tbody tr th:only-of-type {\n",
       "        vertical-align: middle;\n",
       "    }\n",
       "\n",
       "    .dataframe tbody tr th {\n",
       "        vertical-align: top;\n",
       "    }\n",
       "\n",
       "    .dataframe thead th {\n",
       "        text-align: right;\n",
       "    }\n",
       "</style>\n",
       "<table border=\"1\" class=\"dataframe\">\n",
       "  <thead>\n",
       "    <tr style=\"text-align: right;\">\n",
       "      <th></th>\n",
       "      <th>FID_1</th>\n",
       "      <th>aet</th>\n",
       "      <th>dtr</th>\n",
       "      <th>eto</th>\n",
       "      <th>frac</th>\n",
       "      <th>lulc</th>\n",
       "      <th>pawc</th>\n",
       "      <th>precip</th>\n",
       "      <th>wy</th>\n",
       "      <th>POINT_X</th>\n",
       "      <th>POINT_Y</th>\n",
       "      <th>POINT_Z</th>\n",
       "    </tr>\n",
       "  </thead>\n",
       "  <tbody>\n",
       "    <tr>\n",
       "      <th>0</th>\n",
       "      <td>0.000000</td>\n",
       "      <td>0.333241</td>\n",
       "      <td>0.466667</td>\n",
       "      <td>0.476297</td>\n",
       "      <td>0.290443</td>\n",
       "      <td>0.103333</td>\n",
       "      <td>0.952381</td>\n",
       "      <td>0.697703</td>\n",
       "      <td>0.651194</td>\n",
       "      <td>0.873928</td>\n",
       "      <td>0.990787</td>\n",
       "      <td>NaN</td>\n",
       "    </tr>\n",
       "    <tr>\n",
       "      <th>1</th>\n",
       "      <td>0.001552</td>\n",
       "      <td>0.427253</td>\n",
       "      <td>1.000000</td>\n",
       "      <td>0.757574</td>\n",
       "      <td>0.463082</td>\n",
       "      <td>0.250000</td>\n",
       "      <td>0.523810</td>\n",
       "      <td>0.470053</td>\n",
       "      <td>0.420988</td>\n",
       "      <td>0.872272</td>\n",
       "      <td>0.991632</td>\n",
       "      <td>NaN</td>\n",
       "    </tr>\n",
       "    <tr>\n",
       "      <th>2</th>\n",
       "      <td>0.002327</td>\n",
       "      <td>0.434319</td>\n",
       "      <td>0.922436</td>\n",
       "      <td>0.845735</td>\n",
       "      <td>0.492296</td>\n",
       "      <td>0.687233</td>\n",
       "      <td>0.634615</td>\n",
       "      <td>0.480004</td>\n",
       "      <td>0.387785</td>\n",
       "      <td>0.879953</td>\n",
       "      <td>0.991714</td>\n",
       "      <td>NaN</td>\n",
       "    </tr>\n",
       "    <tr>\n",
       "      <th>3</th>\n",
       "      <td>0.003103</td>\n",
       "      <td>0.405734</td>\n",
       "      <td>0.911635</td>\n",
       "      <td>0.897450</td>\n",
       "      <td>0.437432</td>\n",
       "      <td>0.697851</td>\n",
       "      <td>0.632225</td>\n",
       "      <td>0.527739</td>\n",
       "      <td>0.439670</td>\n",
       "      <td>0.881943</td>\n",
       "      <td>0.992161</td>\n",
       "      <td>NaN</td>\n",
       "    </tr>\n",
       "    <tr>\n",
       "      <th>4</th>\n",
       "      <td>0.003879</td>\n",
       "      <td>0.422553</td>\n",
       "      <td>1.000000</td>\n",
       "      <td>0.842186</td>\n",
       "      <td>0.468961</td>\n",
       "      <td>0.688690</td>\n",
       "      <td>0.523810</td>\n",
       "      <td>0.469842</td>\n",
       "      <td>0.407858</td>\n",
       "      <td>0.876675</td>\n",
       "      <td>0.991952</td>\n",
       "      <td>NaN</td>\n",
       "    </tr>\n",
       "    <tr>\n",
       "      <th>...</th>\n",
       "      <td>...</td>\n",
       "      <td>...</td>\n",
       "      <td>...</td>\n",
       "      <td>...</td>\n",
       "      <td>...</td>\n",
       "      <td>...</td>\n",
       "      <td>...</td>\n",
       "      <td>...</td>\n",
       "      <td>...</td>\n",
       "      <td>...</td>\n",
       "      <td>...</td>\n",
       "      <td>...</td>\n",
       "    </tr>\n",
       "    <tr>\n",
       "      <th>1204</th>\n",
       "      <td>0.996897</td>\n",
       "      <td>0.322997</td>\n",
       "      <td>0.333333</td>\n",
       "      <td>0.938610</td>\n",
       "      <td>0.550789</td>\n",
       "      <td>0.500000</td>\n",
       "      <td>1.000000</td>\n",
       "      <td>0.396188</td>\n",
       "      <td>0.235495</td>\n",
       "      <td>0.950872</td>\n",
       "      <td>0.988861</td>\n",
       "      <td>NaN</td>\n",
       "    </tr>\n",
       "    <tr>\n",
       "      <th>1205</th>\n",
       "      <td>0.997673</td>\n",
       "      <td>0.336679</td>\n",
       "      <td>0.333333</td>\n",
       "      <td>0.937630</td>\n",
       "      <td>0.562223</td>\n",
       "      <td>0.590090</td>\n",
       "      <td>1.000000</td>\n",
       "      <td>0.383896</td>\n",
       "      <td>0.236038</td>\n",
       "      <td>0.949511</td>\n",
       "      <td>0.988931</td>\n",
       "      <td>NaN</td>\n",
       "    </tr>\n",
       "    <tr>\n",
       "      <th>1206</th>\n",
       "      <td>0.998448</td>\n",
       "      <td>0.332251</td>\n",
       "      <td>0.333333</td>\n",
       "      <td>0.927698</td>\n",
       "      <td>0.536796</td>\n",
       "      <td>0.677632</td>\n",
       "      <td>1.000000</td>\n",
       "      <td>0.377326</td>\n",
       "      <td>0.254413</td>\n",
       "      <td>0.948970</td>\n",
       "      <td>0.989135</td>\n",
       "      <td>NaN</td>\n",
       "    </tr>\n",
       "    <tr>\n",
       "      <th>1207</th>\n",
       "      <td>0.999224</td>\n",
       "      <td>0.310844</td>\n",
       "      <td>0.333333</td>\n",
       "      <td>0.913325</td>\n",
       "      <td>0.480935</td>\n",
       "      <td>0.672043</td>\n",
       "      <td>1.000000</td>\n",
       "      <td>0.373999</td>\n",
       "      <td>0.288467</td>\n",
       "      <td>0.947484</td>\n",
       "      <td>0.989257</td>\n",
       "      <td>NaN</td>\n",
       "    </tr>\n",
       "    <tr>\n",
       "      <th>1208</th>\n",
       "      <td>1.000000</td>\n",
       "      <td>0.863404</td>\n",
       "      <td>0.631343</td>\n",
       "      <td>0.990866</td>\n",
       "      <td>1.000000</td>\n",
       "      <td>0.621235</td>\n",
       "      <td>0.648946</td>\n",
       "      <td>0.600235</td>\n",
       "      <td>0.107240</td>\n",
       "      <td>0.915006</td>\n",
       "      <td>0.990612</td>\n",
       "      <td>NaN</td>\n",
       "    </tr>\n",
       "  </tbody>\n",
       "</table>\n",
       "<p>1209 rows × 12 columns</p>\n",
       "</div>"
      ],
      "text/plain": [
       "         FID_1       aet       dtr       eto      frac      lulc      pawc  \\\n",
       "0     0.000000  0.333241  0.466667  0.476297  0.290443  0.103333  0.952381   \n",
       "1     0.001552  0.427253  1.000000  0.757574  0.463082  0.250000  0.523810   \n",
       "2     0.002327  0.434319  0.922436  0.845735  0.492296  0.687233  0.634615   \n",
       "3     0.003103  0.405734  0.911635  0.897450  0.437432  0.697851  0.632225   \n",
       "4     0.003879  0.422553  1.000000  0.842186  0.468961  0.688690  0.523810   \n",
       "...        ...       ...       ...       ...       ...       ...       ...   \n",
       "1204  0.996897  0.322997  0.333333  0.938610  0.550789  0.500000  1.000000   \n",
       "1205  0.997673  0.336679  0.333333  0.937630  0.562223  0.590090  1.000000   \n",
       "1206  0.998448  0.332251  0.333333  0.927698  0.536796  0.677632  1.000000   \n",
       "1207  0.999224  0.310844  0.333333  0.913325  0.480935  0.672043  1.000000   \n",
       "1208  1.000000  0.863404  0.631343  0.990866  1.000000  0.621235  0.648946   \n",
       "\n",
       "        precip        wy   POINT_X   POINT_Y  POINT_Z  \n",
       "0     0.697703  0.651194  0.873928  0.990787      NaN  \n",
       "1     0.470053  0.420988  0.872272  0.991632      NaN  \n",
       "2     0.480004  0.387785  0.879953  0.991714      NaN  \n",
       "3     0.527739  0.439670  0.881943  0.992161      NaN  \n",
       "4     0.469842  0.407858  0.876675  0.991952      NaN  \n",
       "...        ...       ...       ...       ...      ...  \n",
       "1204  0.396188  0.235495  0.950872  0.988861      NaN  \n",
       "1205  0.383896  0.236038  0.949511  0.988931      NaN  \n",
       "1206  0.377326  0.254413  0.948970  0.989135      NaN  \n",
       "1207  0.373999  0.288467  0.947484  0.989257      NaN  \n",
       "1208  0.600235  0.107240  0.915006  0.990612      NaN  \n",
       "\n",
       "[1209 rows x 12 columns]"
      ]
     },
     "metadata": {},
     "output_type": "display_data"
    }
   ],
   "source": [
    "# copy the data\n",
    "df_max_scaled = citarum_data.copy()\n",
    "  \n",
    "# apply normalization techniques\n",
    "for column in df_max_scaled.columns:\n",
    "    df_max_scaled[column] = df_max_scaled[column]  / df_max_scaled[column].abs().max()\n",
    "      \n",
    "# view normalized data\n",
    "display(df_max_scaled)"
   ]
  },
  {
   "cell_type": "code",
   "execution_count": 10,
   "metadata": {},
   "outputs": [],
   "source": [
    "#Prepare citarum dataset inputs\n",
    "g_y = df_max_scaled['wy'].values.reshape((-1,1))\n",
    "g_X = df_max_scaled[['aet','eto','frac', 'precip']].values\n",
    "u = citarum_data['POINT_X']\n",
    "v = citarum_data['POINT_Y']\n",
    "g_coords = list(zip(u,v))\n",
    "\n",
    "g_X = (g_X - g_X.mean(axis=0)) / g_X.std(axis=0)\n",
    "\n",
    "g_y = g_y.reshape((-1,1))\n",
    "\n",
    "g_y = (g_y - g_y.mean(axis=0)) / g_y.std(axis=0)"
   ]
  },
  {
   "cell_type": "code",
   "execution_count": 11,
   "metadata": {},
   "outputs": [],
   "source": [
    "#Parrallelization is more favored when you your data are large and/or your machine have many many cores.\n",
    "#mgwr has soft dependency of numba, please install numba if you need better performance (pip install numba).\n",
    "\n",
    "n_proc = 2 #two processors\n",
    "pool = mp.Pool(n_proc)"
   ]
  },
  {
   "cell_type": "code",
   "execution_count": 12,
   "metadata": {},
   "outputs": [
    {
     "data": {
      "application/vnd.jupyter.widget-view+json": {
       "model_id": "a802e88fda4c48c08b505f4b64e0d7a6",
       "version_major": 2,
       "version_minor": 0
      },
      "text/plain": [
       "Backfitting:   0%|          | 0/200 [00:00<?, ?it/s]"
      ]
     },
     "metadata": {},
     "output_type": "display_data"
    },
    {
     "name": "stdout",
     "output_type": "stream",
     "text": [
      "[44. 44. 44. 44. 44.]\n"
     ]
    },
    {
     "data": {
      "application/vnd.jupyter.widget-view+json": {
       "model_id": "7f5acad1bf774c98ae87f6b7e867b7d2",
       "version_major": 2,
       "version_minor": 0
      },
      "text/plain": [
       "Inference:   0%|          | 0/2 [00:00<?, ?it/s]"
      ]
     },
     "metadata": {},
     "output_type": "display_data"
    },
    {
     "name": "stdout",
     "output_type": "stream",
     "text": [
      "Duration (minutes):  15.379321817557017\n"
     ]
    }
   ],
   "source": [
    "#Calibrate MGWR model (parallel processing)\n",
    "\n",
    "start = time.time()\n",
    "\n",
    "mgwr_selector = Sel_BW(g_coords, g_y, g_X, multi=True)\n",
    "mgwr_bw = mgwr_selector.search(pool=pool)\n",
    "print(mgwr_bw)\n",
    "mgwr_results = MGWR(g_coords, g_y, g_X, mgwr_selector).fit(pool=pool)\n",
    "\n",
    "end = time.time()\n",
    "print('Duration (minutes): ', (end-start)/60)"
   ]
  },
  {
   "cell_type": "code",
   "execution_count": 13,
   "metadata": {},
   "outputs": [
    {
     "name": "stdout",
     "output_type": "stream",
     "text": [
      "===========================================================================\n",
      "Model type                                                         Gaussian\n",
      "Number of observations:                                                1209\n",
      "Number of covariates:                                                     5\n",
      "\n",
      "Global Regression Results\n",
      "---------------------------------------------------------------------------\n",
      "Residual sum of squares:                                             92.923\n",
      "Log-likelihood:                                                    -164.484\n",
      "AIC:                                                                338.969\n",
      "AICc:                                                               341.038\n",
      "BIC:                                                              -8452.526\n",
      "R2:                                                                   0.923\n",
      "Adj. R2:                                                              0.923\n",
      "\n",
      "Variable                              Est.         SE  t(Est/SE)    p-value\n",
      "------------------------------- ---------- ---------- ---------- ----------\n",
      "X0                                  -0.000      0.008     -0.000      1.000\n",
      "X1                                   0.440      0.010     45.692      0.000\n",
      "X2                                   0.028      0.008      3.391      0.001\n",
      "X3                                  -0.864      0.011    -81.163      0.000\n",
      "X4                                   0.066      0.011      5.870      0.000\n",
      "\n",
      "Multi-Scale Geographically Weighted Regression (MGWR) Results\n",
      "---------------------------------------------------------------------------\n",
      "Spatial kernel:                                           Adaptive bisquare\n",
      "Criterion for optimal bandwidth:                                       AICc\n",
      "Score of Change (SOC) type:                                     Smoothing f\n",
      "Termination criterion for MGWR:                                       1e-05\n",
      "\n",
      "MGWR bandwidths\n",
      "---------------------------------------------------------------------------\n",
      "Variable             Bandwidth      ENP_j   Adj t-val(95%)   Adj alpha(95%)\n",
      "X0                      44.000    -29.421            3.145           -0.002\n",
      "X1                      44.000    212.915            3.689            0.000\n",
      "X2                      44.000    255.033            3.736            0.000\n",
      "X3                      44.000    110.653            3.517            0.000\n",
      "X4                      44.000    -50.356            3.301           -0.001\n",
      "\n",
      "Diagnostic information\n",
      "---------------------------------------------------------------------------\n",
      "Residual sum of squares:                                            797.329\n",
      "Effective number of parameters (trace(S)):                          498.825\n",
      "Degree of freedom (n - trace(S)):                                   710.175\n",
      "Sigma estimate:                                                       1.060\n",
      "Log-likelihood:                                                   -1463.854\n",
      "AIC:                                                               3927.358\n",
      "AICc:                                                              4634.314\n",
      "BIC:                                                               6475.238\n",
      "R2                                                                    0.341\n",
      "Adjusted R2                                                          -0.123\n",
      "\n",
      "Summary Statistics For MGWR Parameter Estimates\n",
      "---------------------------------------------------------------------------\n",
      "Variable                   Mean        STD        Min     Median        Max\n",
      "-------------------- ---------- ---------- ---------- ---------- ----------\n",
      "X0                       10.204     10.757     -1.087      5.153     30.567\n",
      "X1                        9.390      8.365     -0.742      7.545     24.346\n",
      "X2                        2.093      3.347     -4.795      0.842     12.441\n",
      "X3                       -8.469      7.012    -25.600     -7.133      1.154\n",
      "X4                        0.130      4.588    -20.458      0.425     13.690\n",
      "===========================================================================\n",
      "\n"
     ]
    }
   ],
   "source": [
    "mgwr_results.summary()"
   ]
  },
  {
   "cell_type": "code",
   "execution_count": 14,
   "metadata": {},
   "outputs": [],
   "source": [
    "dfMGWR = pd.DataFrame(mgwr_results.params)\n",
    "dfMGWR.to_csv('dfMGWR_5param.csv', encoding='utf-8')"
   ]
  },
  {
   "cell_type": "code",
   "execution_count": 15,
   "metadata": {},
   "outputs": [
    {
     "name": "stdout",
     "output_type": "stream",
     "text": [
      "52.0\n",
      "Duration (minutes):  0.06202141046524048\n"
     ]
    }
   ],
   "source": [
    "# Calibrate GWR model (parallel processing)\n",
    "\n",
    "start = time.time()\n",
    "\n",
    "gwr_selector = Sel_BW(g_coords, g_y, g_X)\n",
    "gwr_bw = gwr_selector.search(pool=pool)\n",
    "print(gwr_bw)\n",
    "gwr_results = GWR(g_coords, g_y, g_X, gwr_bw).fit(pool=pool)\n",
    "\n",
    "end = time.time()\n",
    "print('Duration (minutes): ', (end-start)/60)"
   ]
  },
  {
   "cell_type": "code",
   "execution_count": null,
   "metadata": {},
   "outputs": [],
   "source": [
    "dfGWR = pd.DataFrame(gwr_results.params)\n",
    "dfGWR.to_csv('dfGWR_5param.csv', encoding='utf-8')"
   ]
  },
  {
   "cell_type": "code",
   "execution_count": null,
   "metadata": {},
   "outputs": [],
   "source": [
    "citarum_shp = gp.read_file('das_citarum_desa_Data_48S_S1.shp')\n",
    "fig, ax = plt.subplots(figsize=(10,10))\n",
    "citarum_shp.plot(ax=ax, **{'edgecolor':'black', 'facecolor':'white'})\n",
    "citarum_shp.centroid.plot(ax=ax, c='black')"
   ]
  },
  {
   "cell_type": "code",
   "execution_count": null,
   "metadata": {},
   "outputs": [],
   "source": [
    "#Prepare GWR results for mapping\n",
    "\n",
    "#Add GWR parameters to GeoDataframe\n",
    "citarum_shp['gwr_intercept'] = gwr_results.params[:,0]*100\n",
    "\n",
    "display(citarum_shp['gwr_intercept'])\n",
    "\n",
    "#Obtain t-vals filtered based on multiple testing correction\n",
    "gwr_filtered_t = gwr_results.filter_tvals(alpha=0.05)\n",
    "display(gwr_filtered_t)"
   ]
  },
  {
   "cell_type": "code",
   "execution_count": null,
   "metadata": {},
   "outputs": [],
   "source": [
    "#Prepare MGWR results for mapping\n",
    "\n",
    "#Add MGWR parameters to GeoDataframe\n",
    "citarum_shp['mgwr_intercept'] = mgwr_results.params[:,0]*100\n",
    "\n",
    "display(citarum_shp['mgwr_intercept'])\n",
    "\n",
    "#Obtain t-vals filtered based on multiple testing correction\n",
    "mgwr_filtered_t = mgwr_results.filter_tvals(alpha=0.05)\n",
    "display(mgwr_filtered_t)"
   ]
  },
  {
   "cell_type": "code",
   "execution_count": null,
   "metadata": {},
   "outputs": [],
   "source": [
    "#Comparison maps of GWR vs. MGWR parameter surfaces where the grey units pertain to statistically insignificant parameters\n",
    "\n",
    "#Prep plot and add axes\n",
    "fig, axes = plt.subplots(nrows=1, ncols=2, figsize=(45,20))\n",
    "ax0 = axes[0]\n",
    "ax0.set_title('GWR Intercept Surface (BW: ' + str(gwr_bw) +')', fontsize=40)\n",
    "ax1 = axes[1]\n",
    "ax1.set_title('MGWR Intercept Surface (BW: ' + str(mgwr_bw[0]) +')', fontsize=40)\n",
    "\n",
    "#Set color map\n",
    "cmap = plt.cm.seismic\n",
    "\n",
    "#Find min and max values of the two combined datasets\n",
    "gwr_min = citarum_shp['gwr_intercept'].min()\n",
    "gwr_max = citarum_shp['gwr_intercept'].max()\n",
    "mgwr_min = citarum_shp['mgwr_intercept'].min()\n",
    "mgwr_max = citarum_shp['mgwr_intercept'].max()\n",
    "vmin = -300\n",
    "vmax = 300\n",
    "\n",
    "\n",
    "cmap = truncate_colormap(cmap, vmin,vmax)\n",
    "\n",
    "\n",
    "#Create scalar mappable for colorbar and stretch colormap across range of data values\n",
    "sm = plt.cm.ScalarMappable(cmap=cmap, norm=plt.Normalize(vmin=vmin, vmax=vmax))\n",
    "\n",
    "#Plot GWR parameters\n",
    "citarum_shp.plot('gwr_intercept', cmap=sm.cmap, ax=ax0, vmin=vmin, vmax=vmax, **{'edgecolor':'black', 'alpha':.65})\n",
    "#If there are insignificnt parameters plot gray polygons over them\n",
    "if (gwr_filtered_t[:,0] == 0).any():\n",
    "    citarum_shp[gwr_filtered_t[:,0] == 0].plot(color='lightgrey', ax=ax0, **{'edgecolor':'black'})\n",
    "\n",
    "#Plot MGWR parameters\n",
    "citarum_shp.plot('mgwr_intercept', cmap=sm.cmap, ax=ax1, vmin=vmin, vmax=vmax, **{'edgecolor':'black', 'alpha':.65})\n",
    "#If there are insignificnt parameters plot gray polygons over them\n",
    "if (mgwr_filtered_t[:,0] == 0).any():\n",
    "    citarum_shp[mgwr_filtered_t[:,0] == 0].plot(color='lightgrey', ax=ax1, **{'edgecolor':'black'})\n",
    " \n",
    "#Set figure options and plot \n",
    "fig.tight_layout()    \n",
    "fig.subplots_adjust(right=0.9)\n",
    "cax = fig.add_axes([0.92, 0.14, 0.03, 0.75])\n",
    "sm._A = []\n",
    "cbar = fig.colorbar(sm, cax=cax)\n",
    "cbar.ax.tick_params(labelsize=50) \n",
    "ax0.get_xaxis().set_visible(False)\n",
    "ax0.get_yaxis().set_visible(False)\n",
    "ax1.get_xaxis().set_visible(False)\n",
    "ax1.get_yaxis().set_visible(False)\n",
    "plt.show()"
   ]
  },
  {
   "cell_type": "code",
   "execution_count": null,
   "metadata": {},
   "outputs": [],
   "source": [
    "from geocube.api.core import make_geocube\n",
    "from geocube.rasterize import rasterize_image\n",
    "from functools import partial\n",
    "from rasterio.enums import MergeAlg"
   ]
  },
  {
   "cell_type": "code",
   "execution_count": null,
   "metadata": {},
   "outputs": [],
   "source": [
    "    # Using GeoCube to rasterize the Vector\n",
    "    citarum_shp_GEO = citarum_shp.to_crs('EPSG:4326')\n",
    "\n",
    "    shptoraster1 = make_geocube(\n",
    "        vector_data=citarum_shp_GEO,\n",
    "        measurements=[\"mgwr_intercept\"],\n",
    "        resolution=(-0.001, 0.001),\n",
    "        fill = 0\n",
    "    )\n",
    "    \n",
    "    # Save raster census raster\n",
    "    shptoraster1.rio.to_raster('mgwr1_geo.tiff')"
   ]
  },
  {
   "cell_type": "code",
   "execution_count": null,
   "metadata": {},
   "outputs": [],
   "source": [
    "import ee\n",
    "import geemap\n"
   ]
  },
  {
   "cell_type": "code",
   "execution_count": null,
   "metadata": {},
   "outputs": [],
   "source": [
    "Map = geemap.Map(center=(-6.3893832360229545,107.31268018020506), zoom=7)\n",
    "Map\n"
   ]
  },
  {
   "cell_type": "code",
   "execution_count": null,
   "metadata": {},
   "outputs": [],
   "source": [
    "citarum_shp.to_file('tes2.shp')  "
   ]
  },
  {
   "cell_type": "code",
   "execution_count": null,
   "metadata": {
    "tags": []
   },
   "outputs": [],
   "source": [
    "test1 = 'tes2.shp'\n",
    "citarum_kecamatan = geemap.shp_to_ee(test1)\n",
    "\n",
    "Map.addLayer(citarum_kecamatan, {}, 'citarum_kecamatan')"
   ]
  },
  {
   "cell_type": "code",
   "execution_count": null,
   "metadata": {},
   "outputs": [],
   "source": [
    "palette = ['006633', 'E5FFCC', '662A00', 'D8D8D8', 'F5F5F5']\n",
    "Map.add_styled_vector(citarum_kecamatan, column=\"mgwr_inter\", palette=palette, layer_name=\"Styled vector\")\n"
   ]
  },
  {
   "cell_type": "code",
   "execution_count": null,
   "metadata": {},
   "outputs": [],
   "source": [
    "palette = ['006633', 'E5FFCC', '662A00', 'D8D8D8', 'F5F5F5']\n",
    "Map.add_styled_vector(citarum_kecamatan, column=\"mgwr_inter\", palette=palette, layer_name=\"Styled vector\")\n"
   ]
  },
  {
   "cell_type": "code",
   "execution_count": null,
   "metadata": {},
   "outputs": [],
   "source": [
    "text = 'Hello World'\n",
    "Map.add_text(text, position='bottomright')"
   ]
  },
  {
   "cell_type": "code",
   "execution_count": null,
   "metadata": {},
   "outputs": [],
   "source": [
    "html = \"\"\"\n",
    "<h2>Jupyter Logo</h2>\n",
    "<img src=\"https://upload.wikimedia.org/wikipedia/commons/d/dd/Alt_Logo_BRIN.png\">\n",
    "\"\"\"\n",
    "Map.add_html(html, position='bottomright')"
   ]
  },
  {
   "cell_type": "code",
   "execution_count": null,
   "metadata": {},
   "outputs": [],
   "source": [
    "palette1=  ['00ff00', 'ff0000', '006622']\n",
    "Map.add_styled_vector(citarum_kecamatan, column=\"mgwr_inter\", palette=palette1, layer_name=\"Tes1\")\n",
    "\n"
   ]
  },
  {
   "cell_type": "code",
   "execution_count": null,
   "metadata": {},
   "outputs": [],
   "source": [
    "mgwr2 = 'mgwr1_geo.tiff'\n",
    "ndviParams = {'palette': ['#d73027', '#f46d43', '#fdae61',\n",
    "                          '#fee08b', '#d9ef8b', '#a6d96a', '#66bd63', '#1a9850'],\n",
    "              'min': -100,\n",
    "              'max': 3000}\n",
    "\n",
    "Map.add_raster(mgwr2, ndviParams, layer_name='mgwr12435')"
   ]
  },
  {
   "cell_type": "code",
   "execution_count": null,
   "metadata": {},
   "outputs": [],
   "source": []
  },
  {
   "cell_type": "code",
   "execution_count": null,
   "metadata": {},
   "outputs": [],
   "source": [
    "mgwr1 = 'mgwr1_geo.tiff'\n",
    "Map.add_raster(mgwr1, {}, layer_name='mgwr11')\n"
   ]
  },
  {
   "cell_type": "code",
   "execution_count": null,
   "metadata": {},
   "outputs": [],
   "source": [
    "import os\n",
    "print(os.getcwd() + \"\\n\")\n",
    "\n"
   ]
  },
  {
   "cell_type": "code",
   "execution_count": 57,
   "metadata": {},
   "outputs": [
    {
     "name": "stdout",
     "output_type": "stream",
     "text": [
      "E:\\citarum\\jupyter\\LULC.tif\n",
      "\n"
     ]
    }
   ],
   "source": [
    "tes1 = os.getcwd() + '\\LULC.tif'\n",
    "print(tes1 + \"\\n\")\n",
    "\n",
    "Map.add_raster(tes1, {}, layer_name='LULC')\n"
   ]
  },
  {
   "cell_type": "code",
   "execution_count": 53,
   "metadata": {
    "collapsed": true,
    "jupyter": {
     "outputs_hidden": true
    },
    "tags": []
   },
   "outputs": [
    {
     "data": {
      "application/vnd.jupyter.widget-view+json": {
       "model_id": "afebc3924fd84ecfb8375b741ac65af3",
       "version_major": 2,
       "version_minor": 0
      },
      "text/plain": [
       "Map(bottom=68166.20001220703, center=[-6.3868173785243965, 107.63056957773871], crs={'name': 'EPSG3857', 'cust…"
      ]
     },
     "metadata": {},
     "output_type": "display_data"
    }
   ],
   "source": [
    "Map.clear()"
   ]
  },
  {
   "cell_type": "code",
   "execution_count": 54,
   "metadata": {},
   "outputs": [
    {
     "data": {
      "application/vnd.jupyter.widget-view+json": {
       "model_id": "078fc105d247492991fd19e49edff27c",
       "version_major": 2,
       "version_minor": 0
      },
      "text/plain": [
       "Map(center=[-6.3893832360229545, 107.31268018020506], controls=(WidgetControl(options=['position', 'transparen…"
      ]
     },
     "metadata": {},
     "output_type": "display_data"
    }
   ],
   "source": [
    "Map = geemap.Map(center=(-6.3893832360229545,107.31268018020506), zoom=7)\n",
    "Map"
   ]
  },
  {
   "cell_type": "code",
   "execution_count": 56,
   "metadata": {},
   "outputs": [
    {
     "name": "stderr",
     "output_type": "stream",
     "text": [
      "Downloading...\n",
      "From: https://github.com/giswqs/data/raw/main/raster/srtm90.tif\n",
      "To: E:\\citarum\\jupyter\\srtm90.tif\n",
      "100%|██████████████████████████████████████████████████████████████████████████████| 15.2M/15.2M [00:20<00:00, 744kB/s]\n"
     ]
    },
    {
     "data": {
      "application/vnd.jupyter.widget-view+json": {
       "model_id": "13e8c647dcfd4412b17eb2092936171c",
       "version_major": 2,
       "version_minor": 0
      },
      "text/plain": [
       "Map(center=[20, 0], controls=(WidgetControl(options=['position', 'transparent_bg'], widget=HBox(children=(Togg…"
      ]
     },
     "metadata": {},
     "output_type": "display_data"
    }
   ],
   "source": [
    "url = 'https://github.com/giswqs/data/raw/main/raster/srtm90.tif'\n",
    "filename = 'srtm90.tif'\n",
    "geemap.download_file(url, filename)\n",
    "\n",
    "Map = geemap.Map()\n",
    "Map.add_raster(filename, palette='terrain', layer_name=\"DEM\")\n",
    "vis_params = {'min': 0, 'max': 4000, 'palette': 'terrain'}\n",
    "Map.add_colorbar(vis_params, label='Elevation (m)')\n",
    "Map"
   ]
  },
  {
   "cell_type": "code",
   "execution_count": 58,
   "metadata": {},
   "outputs": [],
   "source": [
    "Map.add_raster('mgwr1_geo.tiff', palette='terrain', layer_name=\"mgwr1_geo.tiff\")"
   ]
  },
  {
   "cell_type": "code",
   "execution_count": 66,
   "metadata": {},
   "outputs": [],
   "source": [
    "mgwr2 = 'mgwr1_geo.tiff'\n",
    "Map.add_raster(mgwr2,  palette='Greens',layer_name='tes122')"
   ]
  },
  {
   "cell_type": "code",
   "execution_count": 70,
   "metadata": {},
   "outputs": [
    {
     "ename": "NameError",
     "evalue": "name 'rasterio' is not defined",
     "output_type": "error",
     "traceback": [
      "\u001b[1;31m---------------------------------------------------------------------------\u001b[0m",
      "\u001b[1;31mNameError\u001b[0m                                 Traceback (most recent call last)",
      "Cell \u001b[1;32mIn[70], line 1\u001b[0m\n\u001b[1;32m----> 1\u001b[0m raster \u001b[38;5;241m=\u001b[39m \u001b[43mrasterio\u001b[49m\u001b[38;5;241m.\u001b[39mopen(\u001b[38;5;124m'\u001b[39m\u001b[38;5;124mmgwr1_geo.tiff\u001b[39m\u001b[38;5;124m'\u001b[39m)\n\u001b[0;32m      3\u001b[0m show(raster)\n",
      "\u001b[1;31mNameError\u001b[0m: name 'rasterio' is not defined"
     ]
    }
   ],
   "source": [
    "raster = rasterio.open('mgwr1_geo.tiff')\n",
    "\n",
    "show(raster)"
   ]
  },
  {
   "cell_type": "code",
   "execution_count": 69,
   "metadata": {},
   "outputs": [
    {
     "ename": "ContextualVersionConflict",
     "evalue": "(xarray 2022.12.0 (c:\\users\\fardh\\anaconda3\\envs\\mgwr38-geemap\\lib\\site-packages), Requirement.parse('xarray<2022.9.0,>2022.3.0'), {'pyvista-xarray'})",
     "output_type": "error",
     "traceback": [
      "\u001b[1;31m---------------------------------------------------------------------------\u001b[0m",
      "\u001b[1;31mContextualVersionConflict\u001b[0m                 Traceback (most recent call last)",
      "Cell \u001b[1;32mIn[69], line 1\u001b[0m\n\u001b[1;32m----> 1\u001b[0m \u001b[43mgeemap\u001b[49m\u001b[38;5;241;43m.\u001b[39;49m\u001b[43mplot_raster\u001b[49m\u001b[43m(\u001b[49m\u001b[38;5;124;43m'\u001b[39;49m\u001b[38;5;124;43mmgwr1_geo.tiff\u001b[39;49m\u001b[38;5;124;43m'\u001b[39;49m\u001b[43m,\u001b[49m\u001b[43m \u001b[49m\u001b[43mcmap\u001b[49m\u001b[38;5;241;43m=\u001b[39;49m\u001b[38;5;124;43m'\u001b[39;49m\u001b[38;5;124;43mterrain\u001b[39;49m\u001b[38;5;124;43m'\u001b[39;49m\u001b[43m,\u001b[49m\u001b[43m \u001b[49m\u001b[43mfigsize\u001b[49m\u001b[38;5;241;43m=\u001b[39;49m\u001b[43m(\u001b[49m\u001b[38;5;241;43m15\u001b[39;49m\u001b[43m,\u001b[49m\u001b[43m \u001b[49m\u001b[38;5;241;43m10\u001b[39;49m\u001b[43m)\u001b[49m\u001b[43m)\u001b[49m\n",
      "File \u001b[1;32m~\\anaconda3\\envs\\mgwr38-GEEMAP\\lib\\site-packages\\geemap\\common.py:12752\u001b[0m, in \u001b[0;36mplot_raster\u001b[1;34m(image, band, cmap, proj, figsize, open_kwargs, **kwargs)\u001b[0m\n\u001b[0;32m  12749\u001b[0m     \u001b[38;5;28;01mreturn\u001b[39;00m\n\u001b[0;32m  12751\u001b[0m \u001b[38;5;28;01mtry\u001b[39;00m:\n\u001b[1;32m> 12752\u001b[0m     \u001b[38;5;28;01mimport\u001b[39;00m \u001b[38;5;21;01mpvxarray\u001b[39;00m\n\u001b[0;32m  12753\u001b[0m     \u001b[38;5;28;01mimport\u001b[39;00m \u001b[38;5;21;01mrioxarray\u001b[39;00m\n\u001b[0;32m  12754\u001b[0m     \u001b[38;5;28;01mimport\u001b[39;00m \u001b[38;5;21;01mxarray\u001b[39;00m\n",
      "File \u001b[1;32m~\\anaconda3\\envs\\mgwr38-GEEMAP\\lib\\site-packages\\pvxarray\\__init__.py:2\u001b[0m\n\u001b[0;32m      1\u001b[0m \u001b[38;5;66;03m# flake8: noqa: F401\u001b[39;00m\n\u001b[1;32m----> 2\u001b[0m \u001b[38;5;28;01mfrom\u001b[39;00m \u001b[38;5;21;01mpvxarray\u001b[39;00m\u001b[38;5;21;01m.\u001b[39;00m\u001b[38;5;21;01m_version\u001b[39;00m \u001b[38;5;28;01mimport\u001b[39;00m __version__\n\u001b[0;32m      3\u001b[0m \u001b[38;5;28;01mfrom\u001b[39;00m \u001b[38;5;21;01mpvxarray\u001b[39;00m\u001b[38;5;21;01m.\u001b[39;00m\u001b[38;5;21;01maccessor\u001b[39;00m \u001b[38;5;28;01mimport\u001b[39;00m PyVistaAccessor\n\u001b[0;32m      4\u001b[0m \u001b[38;5;28;01mfrom\u001b[39;00m \u001b[38;5;21;01mpvxarray\u001b[39;00m\u001b[38;5;21;01m.\u001b[39;00m\u001b[38;5;21;01merrors\u001b[39;00m \u001b[38;5;28;01mimport\u001b[39;00m DataCopyWarning\n",
      "File \u001b[1;32m~\\anaconda3\\envs\\mgwr38-GEEMAP\\lib\\site-packages\\pvxarray\\_version.py:4\u001b[0m\n\u001b[0;32m      1\u001b[0m \u001b[38;5;28;01mfrom\u001b[39;00m \u001b[38;5;21;01mpkg_resources\u001b[39;00m \u001b[38;5;28;01mimport\u001b[39;00m DistributionNotFound, get_distribution\n\u001b[0;32m      3\u001b[0m \u001b[38;5;28;01mtry\u001b[39;00m:\n\u001b[1;32m----> 4\u001b[0m     __version__ \u001b[38;5;241m=\u001b[39m \u001b[43mget_distribution\u001b[49m\u001b[43m(\u001b[49m\u001b[38;5;124;43m\"\u001b[39;49m\u001b[38;5;124;43mpyvista-xarray\u001b[39;49m\u001b[38;5;124;43m\"\u001b[39;49m\u001b[43m)\u001b[49m\u001b[38;5;241m.\u001b[39mversion\n\u001b[0;32m      5\u001b[0m \u001b[38;5;28;01mexcept\u001b[39;00m DistributionNotFound:  \u001b[38;5;66;03m# pragma: no cover\u001b[39;00m\n\u001b[0;32m      6\u001b[0m     \u001b[38;5;66;03m# package is not installed\u001b[39;00m\n\u001b[0;32m      7\u001b[0m     __version__ \u001b[38;5;241m=\u001b[39m \u001b[38;5;28;01mNone\u001b[39;00m\n",
      "File \u001b[1;32m~\\anaconda3\\envs\\mgwr38-GEEMAP\\lib\\site-packages\\pkg_resources\\__init__.py:478\u001b[0m, in \u001b[0;36mget_distribution\u001b[1;34m(dist)\u001b[0m\n\u001b[0;32m    476\u001b[0m     dist \u001b[38;5;241m=\u001b[39m Requirement\u001b[38;5;241m.\u001b[39mparse(dist)\n\u001b[0;32m    477\u001b[0m \u001b[38;5;28;01mif\u001b[39;00m \u001b[38;5;28misinstance\u001b[39m(dist, Requirement):\n\u001b[1;32m--> 478\u001b[0m     dist \u001b[38;5;241m=\u001b[39m \u001b[43mget_provider\u001b[49m\u001b[43m(\u001b[49m\u001b[43mdist\u001b[49m\u001b[43m)\u001b[49m\n\u001b[0;32m    479\u001b[0m \u001b[38;5;28;01mif\u001b[39;00m \u001b[38;5;129;01mnot\u001b[39;00m \u001b[38;5;28misinstance\u001b[39m(dist, Distribution):\n\u001b[0;32m    480\u001b[0m     \u001b[38;5;28;01mraise\u001b[39;00m \u001b[38;5;167;01mTypeError\u001b[39;00m(\u001b[38;5;124m\"\u001b[39m\u001b[38;5;124mExpected string, Requirement, or Distribution\u001b[39m\u001b[38;5;124m\"\u001b[39m, dist)\n",
      "File \u001b[1;32m~\\anaconda3\\envs\\mgwr38-GEEMAP\\lib\\site-packages\\pkg_resources\\__init__.py:354\u001b[0m, in \u001b[0;36mget_provider\u001b[1;34m(moduleOrReq)\u001b[0m\n\u001b[0;32m    352\u001b[0m \u001b[38;5;124;03m\"\"\"Return an IResourceProvider for the named module or requirement\"\"\"\u001b[39;00m\n\u001b[0;32m    353\u001b[0m \u001b[38;5;28;01mif\u001b[39;00m \u001b[38;5;28misinstance\u001b[39m(moduleOrReq, Requirement):\n\u001b[1;32m--> 354\u001b[0m     \u001b[38;5;28;01mreturn\u001b[39;00m working_set\u001b[38;5;241m.\u001b[39mfind(moduleOrReq) \u001b[38;5;129;01mor\u001b[39;00m \u001b[43mrequire\u001b[49m\u001b[43m(\u001b[49m\u001b[38;5;28;43mstr\u001b[39;49m\u001b[43m(\u001b[49m\u001b[43mmoduleOrReq\u001b[49m\u001b[43m)\u001b[49m\u001b[43m)\u001b[49m[\u001b[38;5;241m0\u001b[39m]\n\u001b[0;32m    355\u001b[0m \u001b[38;5;28;01mtry\u001b[39;00m:\n\u001b[0;32m    356\u001b[0m     module \u001b[38;5;241m=\u001b[39m sys\u001b[38;5;241m.\u001b[39mmodules[moduleOrReq]\n",
      "File \u001b[1;32m~\\anaconda3\\envs\\mgwr38-GEEMAP\\lib\\site-packages\\pkg_resources\\__init__.py:909\u001b[0m, in \u001b[0;36mWorkingSet.require\u001b[1;34m(self, *requirements)\u001b[0m\n\u001b[0;32m    900\u001b[0m \u001b[38;5;28;01mdef\u001b[39;00m \u001b[38;5;21mrequire\u001b[39m(\u001b[38;5;28mself\u001b[39m, \u001b[38;5;241m*\u001b[39mrequirements):\n\u001b[0;32m    901\u001b[0m     \u001b[38;5;124;03m\"\"\"Ensure that distributions matching `requirements` are activated\u001b[39;00m\n\u001b[0;32m    902\u001b[0m \n\u001b[0;32m    903\u001b[0m \u001b[38;5;124;03m    `requirements` must be a string or a (possibly-nested) sequence\u001b[39;00m\n\u001b[1;32m   (...)\u001b[0m\n\u001b[0;32m    907\u001b[0m \u001b[38;5;124;03m    included, even if they were already activated in this working set.\u001b[39;00m\n\u001b[0;32m    908\u001b[0m \u001b[38;5;124;03m    \"\"\"\u001b[39;00m\n\u001b[1;32m--> 909\u001b[0m     needed \u001b[38;5;241m=\u001b[39m \u001b[38;5;28;43mself\u001b[39;49m\u001b[38;5;241;43m.\u001b[39;49m\u001b[43mresolve\u001b[49m\u001b[43m(\u001b[49m\u001b[43mparse_requirements\u001b[49m\u001b[43m(\u001b[49m\u001b[43mrequirements\u001b[49m\u001b[43m)\u001b[49m\u001b[43m)\u001b[49m\n\u001b[0;32m    911\u001b[0m     \u001b[38;5;28;01mfor\u001b[39;00m dist \u001b[38;5;129;01min\u001b[39;00m needed:\n\u001b[0;32m    912\u001b[0m         \u001b[38;5;28mself\u001b[39m\u001b[38;5;241m.\u001b[39madd(dist)\n",
      "File \u001b[1;32m~\\anaconda3\\envs\\mgwr38-GEEMAP\\lib\\site-packages\\pkg_resources\\__init__.py:800\u001b[0m, in \u001b[0;36mWorkingSet.resolve\u001b[1;34m(self, requirements, env, installer, replace_conflicting, extras)\u001b[0m\n\u001b[0;32m    797\u001b[0m \u001b[38;5;28;01mif\u001b[39;00m dist \u001b[38;5;129;01mnot\u001b[39;00m \u001b[38;5;129;01min\u001b[39;00m req:\n\u001b[0;32m    798\u001b[0m     \u001b[38;5;66;03m# Oops, the \"best\" so far conflicts with a dependency\u001b[39;00m\n\u001b[0;32m    799\u001b[0m     dependent_req \u001b[38;5;241m=\u001b[39m required_by[req]\n\u001b[1;32m--> 800\u001b[0m     \u001b[38;5;28;01mraise\u001b[39;00m VersionConflict(dist, req)\u001b[38;5;241m.\u001b[39mwith_context(dependent_req)\n\u001b[0;32m    802\u001b[0m \u001b[38;5;66;03m# push the new requirements onto the stack\u001b[39;00m\n\u001b[0;32m    803\u001b[0m new_requirements \u001b[38;5;241m=\u001b[39m dist\u001b[38;5;241m.\u001b[39mrequires(req\u001b[38;5;241m.\u001b[39mextras)[::\u001b[38;5;241m-\u001b[39m\u001b[38;5;241m1\u001b[39m]\n",
      "\u001b[1;31mContextualVersionConflict\u001b[0m: (xarray 2022.12.0 (c:\\users\\fardh\\anaconda3\\envs\\mgwr38-geemap\\lib\\site-packages), Requirement.parse('xarray<2022.9.0,>2022.3.0'), {'pyvista-xarray'})"
     ]
    }
   ],
   "source": [
    "geemap.plot_raster('mgwr1_geo.tiff', cmap='terrain', figsize=(15, 10))\n"
   ]
  },
  {
   "cell_type": "code",
   "execution_count": 71,
   "metadata": {},
   "outputs": [
    {
     "ename": "NameError",
     "evalue": "name 'ListedColormap' is not defined",
     "output_type": "error",
     "traceback": [
      "\u001b[1;31m---------------------------------------------------------------------------\u001b[0m",
      "\u001b[1;31mNameError\u001b[0m                                 Traceback (most recent call last)",
      "Cell \u001b[1;32mIn[71], line 2\u001b[0m\n\u001b[0;32m      1\u001b[0m \u001b[38;5;66;03m# Define the colors you want\u001b[39;00m\n\u001b[1;32m----> 2\u001b[0m cmap \u001b[38;5;241m=\u001b[39m \u001b[43mListedColormap\u001b[49m([\u001b[38;5;124m\"\u001b[39m\u001b[38;5;124mwhite\u001b[39m\u001b[38;5;124m\"\u001b[39m, \u001b[38;5;124m\"\u001b[39m\u001b[38;5;124mtan\u001b[39m\u001b[38;5;124m\"\u001b[39m, \u001b[38;5;124m\"\u001b[39m\u001b[38;5;124mspringgreen\u001b[39m\u001b[38;5;124m\"\u001b[39m, \u001b[38;5;124m\"\u001b[39m\u001b[38;5;124mdarkgreen\u001b[39m\u001b[38;5;124m\"\u001b[39m])\n\u001b[0;32m      4\u001b[0m \u001b[38;5;66;03m# Define a normalization from values -> colors\u001b[39;00m\n\u001b[0;32m      5\u001b[0m norm \u001b[38;5;241m=\u001b[39m colors\u001b[38;5;241m.\u001b[39mBoundaryNorm([\u001b[38;5;241m0\u001b[39m, \u001b[38;5;241m2\u001b[39m, \u001b[38;5;241m10\u001b[39m, \u001b[38;5;241m20\u001b[39m, \u001b[38;5;241m30\u001b[39m], \u001b[38;5;241m5\u001b[39m)\n",
      "\u001b[1;31mNameError\u001b[0m: name 'ListedColormap' is not defined"
     ]
    }
   ],
   "source": [
    "# Define the colors you want\n",
    "cmap = ListedColormap([\"white\", \"tan\", \"springgreen\", \"darkgreen\"])\n",
    "\n",
    "# Define a normalization from values -> colors\n",
    "norm = colors.BoundaryNorm([0, 2, 10, 20, 30], 5)"
   ]
  }
 ],
 "metadata": {
  "anaconda-cloud": {},
  "kernelspec": {
   "display_name": "mgwr38-GEEMAP",
   "language": "python",
   "name": "python3"
  },
  "language_info": {
   "codemirror_mode": {
    "name": "ipython",
    "version": 3
   },
   "file_extension": ".py",
   "mimetype": "text/x-python",
   "name": "python",
   "nbconvert_exporter": "python",
   "pygments_lexer": "ipython3",
   "version": "3.8.13 | packaged by conda-forge | (default, Mar 25 2022, 05:59:00) [MSC v.1929 64 bit (AMD64)]"
  },
  "vscode": {
   "interpreter": {
    "hash": "76002033938b449d50a82131dbdce7d5f821fb1e5c6ee8a2c0e9025e7b929f8b"
   }
  }
 },
 "nbformat": 4,
 "nbformat_minor": 4
}
