{
 "cells": [
  {
   "cell_type": "markdown",
   "metadata": {},
   "source": [
    "Anaconda install instructions as of mgwr 1.0.2 and Conda 4.5:\n",
    "\n",
    "```sh\n",
    "#conda update conda\n",
    "#conda update anaconda\n",
    "#conda update scipy\n",
    "#conda install pysal \n",
    "#pip install libpysal\n",
    "#conda install mgwr\n",
    "#conda install geopandas\n",
    "```"
   ]
  },
  {
   "cell_type": "code",
   "execution_count": null,
   "metadata": {},
   "outputs": [],
   "source": [
    "import ee\n",
    "import geemap"
   ]
  },
  {
   "cell_type": "code",
   "execution_count": null,
   "metadata": {},
   "outputs": [],
   "source": [
    "from platform import python_version\n",
    "\n",
    "print(python_version())"
   ]
  },
  {
   "cell_type": "code",
   "execution_count": null,
   "metadata": {
    "scrolled": true
   },
   "outputs": [],
   "source": [
    "import time\n",
    "import multiprocessing as mp\n",
    "import numpy as np\n",
    "import libpysal as ps \n",
    "from mgwr.gwr import GWR, MGWR\n",
    "from mgwr.sel_bw import Sel_BW\n",
    "from mgwr.utils import shift_colormap, truncate_colormap\n",
    "import geopandas as gp\n",
    "import matplotlib.pyplot as plt\n",
    "import matplotlib as mpl\n",
    "import pandas as pd\n",
    "from sklearn import preprocessing\n"
   ]
  },
  {
   "cell_type": "code",
   "execution_count": null,
   "metadata": {},
   "outputs": [],
   "source": [
    "#Load citarum dataset and generate plot of citarum counties (figure 1)\n",
    "citarum_data = pd.read_csv('desa_V1.csv')\n",
    "print(citarum_data)\n",
    "citarum_data = citarum_data[(citarum_data['wy']>0)]\n",
    "citarum_data = citarum_data.dropna()\n",
    "print(citarum_data)\n",
    "\n",
    "\n"
   ]
  },
  {
   "cell_type": "code",
   "execution_count": null,
   "metadata": {},
   "outputs": [],
   "source": [
    "# copy the data\n",
    "df_max_scaled = citarum_data.copy()\n",
    "  \n",
    "# apply normalization techniques\n",
    "for column in df_max_scaled.columns:\n",
    "    df_max_scaled[column] = df_max_scaled[column]  / df_max_scaled[column].abs().max()\n",
    "      \n",
    "# view normalized data\n",
    "display(df_max_scaled)"
   ]
  },
  {
   "cell_type": "code",
   "execution_count": null,
   "metadata": {},
   "outputs": [],
   "source": [
    "#Prepare citarum dataset inputs\n",
    "g_y = df_max_scaled['wy'].values.reshape((-1,1))\n",
    "g_X = df_max_scaled[['aet','eto','frac', 'precip']].values\n",
    "u = citarum_data['POINT_X']\n",
    "v = citarum_data['POINT_Y']\n",
    "g_coords = list(zip(u,v))\n",
    "\n",
    "g_X = (g_X - g_X.mean(axis=0)) / g_X.std(axis=0)\n",
    "\n",
    "g_y = g_y.reshape((-1,1))\n",
    "\n",
    "g_y = (g_y - g_y.mean(axis=0)) / g_y.std(axis=0)"
   ]
  },
  {
   "cell_type": "code",
   "execution_count": null,
   "metadata": {},
   "outputs": [],
   "source": [
    "#Parrallelization is more favored when you your data are large and/or your machine have many many cores.\n",
    "#mgwr has soft dependency of numba, please install numba if you need better performance (pip install numba).\n",
    "\n",
    "n_proc = 2 #two processors\n",
    "pool = mp.Pool(n_proc)"
   ]
  },
  {
   "cell_type": "code",
   "execution_count": null,
   "metadata": {},
   "outputs": [],
   "source": [
    "#Calibrate MGWR model (parallel processing)\n",
    "\n",
    "start = time.time()\n",
    "\n",
    "mgwr_selector = Sel_BW(g_coords, g_y, g_X, multi=True)\n",
    "mgwr_bw = mgwr_selector.search(pool=pool)\n",
    "print(mgwr_bw)\n",
    "mgwr_results = MGWR(g_coords, g_y, g_X, mgwr_selector).fit(pool=pool)\n",
    "\n",
    "end = time.time()\n",
    "print('Duration (minutes): ', (end-start)/60)"
   ]
  },
  {
   "cell_type": "code",
   "execution_count": null,
   "metadata": {},
   "outputs": [],
   "source": [
    "mgwr_results.summary()"
   ]
  },
  {
   "cell_type": "code",
   "execution_count": null,
   "metadata": {},
   "outputs": [],
   "source": [
    "dfMGWR = pd.DataFrame(mgwr_results.params)\n",
    "dfMGWR.to_csv('dfMGWR_5param.csv', encoding='utf-8')"
   ]
  },
  {
   "cell_type": "code",
   "execution_count": null,
   "metadata": {},
   "outputs": [],
   "source": [
    "# Calibrate GWR model (parallel processing)\n",
    "\n",
    "start = time.time()\n",
    "\n",
    "gwr_selector = Sel_BW(g_coords, g_y, g_X)\n",
    "gwr_bw = gwr_selector.search(pool=pool)\n",
    "print(gwr_bw)\n",
    "gwr_results = GWR(g_coords, g_y, g_X, gwr_bw).fit(pool=pool)\n",
    "\n",
    "end = time.time()\n",
    "print('Duration (minutes): ', (end-start)/60)"
   ]
  },
  {
   "cell_type": "code",
   "execution_count": null,
   "metadata": {},
   "outputs": [],
   "source": [
    "dfGWR = pd.DataFrame(gwr_results.params)\n",
    "dfGWR.to_csv('dfGWR_5param.csv', encoding='utf-8')"
   ]
  },
  {
   "cell_type": "code",
   "execution_count": null,
   "metadata": {},
   "outputs": [],
   "source": [
    "citarum_shp = gp.read_file('das_citarum_desa_Data_48S_S1.shp')\n",
    "fig, ax = plt.subplots(figsize=(10,10))\n",
    "citarum_shp.plot(ax=ax, **{'edgecolor':'black', 'facecolor':'white'})\n",
    "citarum_shp.centroid.plot(ax=ax, c='black')"
   ]
  },
  {
   "cell_type": "code",
   "execution_count": null,
   "metadata": {},
   "outputs": [],
   "source": [
    "#Prepare GWR results for mapping\n",
    "\n",
    "#Add GWR parameters to GeoDataframe\n",
    "citarum_shp['gwr_intercept'] = gwr_results.params[:,0]*100\n",
    "\n",
    "display(citarum_shp['gwr_intercept'])\n",
    "\n",
    "#Obtain t-vals filtered based on multiple testing correction\n",
    "gwr_filtered_t = gwr_results.filter_tvals(alpha=0.05)\n",
    "display(gwr_filtered_t)"
   ]
  },
  {
   "cell_type": "code",
   "execution_count": null,
   "metadata": {},
   "outputs": [],
   "source": [
    "#Prepare MGWR results for mapping\n",
    "\n",
    "#Add MGWR parameters to GeoDataframe\n",
    "citarum_shp['mgwr_intercept'] = mgwr_results.params[:,0]*100\n",
    "\n",
    "display(citarum_shp['mgwr_intercept'])\n",
    "\n",
    "#Obtain t-vals filtered based on multiple testing correction\n",
    "mgwr_filtered_t = mgwr_results.filter_tvals(alpha=0.05)\n",
    "display(mgwr_filtered_t)"
   ]
  },
  {
   "cell_type": "code",
   "execution_count": null,
   "metadata": {},
   "outputs": [],
   "source": [
    "#Comparison maps of GWR vs. MGWR parameter surfaces where the grey units pertain to statistically insignificant parameters\n",
    "\n",
    "#Prep plot and add axes\n",
    "fig, axes = plt.subplots(nrows=1, ncols=2, figsize=(45,20))\n",
    "ax0 = axes[0]\n",
    "ax0.set_title('GWR Intercept Surface (BW: ' + str(gwr_bw) +')', fontsize=40)\n",
    "ax1 = axes[1]\n",
    "ax1.set_title('MGWR Intercept Surface (BW: ' + str(mgwr_bw[0]) +')', fontsize=40)\n",
    "\n",
    "#Set color map\n",
    "cmap = plt.cm.seismic\n",
    "\n",
    "#Find min and max values of the two combined datasets\n",
    "gwr_min = citarum_shp['gwr_intercept'].min()\n",
    "gwr_max = citarum_shp['gwr_intercept'].max()\n",
    "mgwr_min = citarum_shp['mgwr_intercept'].min()\n",
    "mgwr_max = citarum_shp['mgwr_intercept'].max()\n",
    "vmin = -300\n",
    "vmax = 300\n",
    "\n",
    "\n",
    "cmap = truncate_colormap(cmap, vmin,vmax)\n",
    "\n",
    "\n",
    "#Create scalar mappable for colorbar and stretch colormap across range of data values\n",
    "sm = plt.cm.ScalarMappable(cmap=cmap, norm=plt.Normalize(vmin=vmin, vmax=vmax))\n",
    "\n",
    "#Plot GWR parameters\n",
    "citarum_shp.plot('gwr_intercept', cmap=sm.cmap, ax=ax0, vmin=vmin, vmax=vmax, **{'edgecolor':'black', 'alpha':.65})\n",
    "#If there are insignificnt parameters plot gray polygons over them\n",
    "if (gwr_filtered_t[:,0] == 0).any():\n",
    "    citarum_shp[gwr_filtered_t[:,0] == 0].plot(color='lightgrey', ax=ax0, **{'edgecolor':'black'})\n",
    "\n",
    "#Plot MGWR parameters\n",
    "citarum_shp.plot('mgwr_intercept', cmap=sm.cmap, ax=ax1, vmin=vmin, vmax=vmax, **{'edgecolor':'black', 'alpha':.65})\n",
    "#If there are insignificnt parameters plot gray polygons over them\n",
    "if (mgwr_filtered_t[:,0] == 0).any():\n",
    "    citarum_shp[mgwr_filtered_t[:,0] == 0].plot(color='lightgrey', ax=ax1, **{'edgecolor':'black'})\n",
    " \n",
    "#Set figure options and plot \n",
    "fig.tight_layout()    \n",
    "fig.subplots_adjust(right=0.9)\n",
    "cax = fig.add_axes([0.92, 0.14, 0.03, 0.75])\n",
    "sm._A = []\n",
    "cbar = fig.colorbar(sm, cax=cax)\n",
    "cbar.ax.tick_params(labelsize=50) \n",
    "ax0.get_xaxis().set_visible(False)\n",
    "ax0.get_yaxis().set_visible(False)\n",
    "ax1.get_xaxis().set_visible(False)\n",
    "ax1.get_yaxis().set_visible(False)\n",
    "plt.show()"
   ]
  },
  {
   "cell_type": "code",
   "execution_count": null,
   "metadata": {},
   "outputs": [],
   "source": [
    "from geocube.api.core import make_geocube\n",
    "from geocube.rasterize import rasterize_image\n",
    "from functools import partial\n",
    "from rasterio.enums import MergeAlg"
   ]
  },
  {
   "cell_type": "code",
   "execution_count": null,
   "metadata": {},
   "outputs": [],
   "source": [
    "    # Using GeoCube to rasterize the Vector\n",
    "    citarum_shp_GEO = citarum_shp.to_crs('EPSG:4326')\n",
    "\n",
    "    shptoraster1 = make_geocube(\n",
    "        vector_data=citarum_shp_GEO,\n",
    "        measurements=[\"mgwr_intercept\"],\n",
    "        resolution=(-0.001, 0.001),\n",
    "        fill = 0\n",
    "    )\n",
    "    \n",
    "    # Save raster census raster\n",
    "    shptoraster1.rio.to_raster('mgwr1_geo.tiff')"
   ]
  },
  {
   "cell_type": "code",
   "execution_count": null,
   "metadata": {},
   "outputs": [],
   "source": [
    "import ee\n",
    "import geemap\n"
   ]
  },
  {
   "cell_type": "code",
   "execution_count": null,
   "metadata": {},
   "outputs": [],
   "source": [
    "Map = geemap.Map(center=(-6.3893832360229545,107.31268018020506), zoom=7)\n",
    "Map\n"
   ]
  },
  {
   "cell_type": "code",
   "execution_count": null,
   "metadata": {},
   "outputs": [],
   "source": [
    "citarum_shp.to_file('tes2.shp')  "
   ]
  },
  {
   "cell_type": "code",
   "execution_count": null,
   "metadata": {
    "tags": []
   },
   "outputs": [],
   "source": [
    "test1 = 'tes2.shp'\n",
    "citarum_kecamatan = geemap.shp_to_ee(test1)\n",
    "\n",
    "Map.addLayer(citarum_kecamatan, {}, 'citarum_kecamatan')"
   ]
  },
  {
   "cell_type": "code",
   "execution_count": null,
   "metadata": {},
   "outputs": [],
   "source": [
    "palette = ['006633', 'E5FFCC', '662A00', 'D8D8D8', 'F5F5F5']\n",
    "Map.add_styled_vector(citarum_kecamatan, column=\"mgwr_inter\", palette=palette, layer_name=\"Styled vector\")\n"
   ]
  },
  {
   "cell_type": "code",
   "execution_count": null,
   "metadata": {},
   "outputs": [],
   "source": [
    "palette = ['006633', 'E5FFCC', '662A00', 'D8D8D8', 'F5F5F5']\n",
    "Map.add_styled_vector(citarum_kecamatan, column=\"mgwr_inter\", palette=palette, layer_name=\"Styled vector\")\n"
   ]
  },
  {
   "cell_type": "code",
   "execution_count": null,
   "metadata": {},
   "outputs": [],
   "source": [
    "text = 'Hello World'\n",
    "Map.add_text(text, position='bottomright')"
   ]
  },
  {
   "cell_type": "code",
   "execution_count": null,
   "metadata": {},
   "outputs": [],
   "source": [
    "html = \"\"\"\n",
    "<h2>Jupyter Logo</h2>\n",
    "<img src=\"https://upload.wikimedia.org/wikipedia/commons/d/dd/Alt_Logo_BRIN.png\">\n",
    "\"\"\"\n",
    "Map.add_html(html, position='bottomright')"
   ]
  },
  {
   "cell_type": "code",
   "execution_count": null,
   "metadata": {},
   "outputs": [],
   "source": [
    "palette1=  ['00ff00', 'ff0000', '006622']\n",
    "Map.add_styled_vector(citarum_kecamatan, column=\"mgwr_inter\", palette=palette1, layer_name=\"Tes1\")\n",
    "\n"
   ]
  },
  {
   "cell_type": "code",
   "execution_count": null,
   "metadata": {},
   "outputs": [],
   "source": [
    "mgwr2 = 'mgwr1_geo.tiff'\n",
    "ndviParams = {'palette': ['#d73027', '#f46d43', '#fdae61',\n",
    "                          '#fee08b', '#d9ef8b', '#a6d96a', '#66bd63', '#1a9850'],\n",
    "              'min': -100,\n",
    "              'max': 3000}\n",
    "\n",
    "Map.add_raster(mgwr2, ndviParams, layer_name='mgwr12435')"
   ]
  },
  {
   "cell_type": "code",
   "execution_count": null,
   "metadata": {},
   "outputs": [],
   "source": []
  },
  {
   "cell_type": "code",
   "execution_count": null,
   "metadata": {},
   "outputs": [],
   "source": [
    "mgwr1 = 'mgwr1_geo.tiff'\n",
    "Map.add_raster(mgwr1, {}, layer_name='mgwr11')\n"
   ]
  },
  {
   "cell_type": "code",
   "execution_count": null,
   "metadata": {},
   "outputs": [],
   "source": [
    "import os\n",
    "print(os.getcwd() + \"\\n\")\n",
    "\n"
   ]
  },
  {
   "cell_type": "code",
   "execution_count": 57,
   "metadata": {},
   "outputs": [
    {
     "name": "stdout",
     "output_type": "stream",
     "text": [
      "E:\\citarum\\jupyter\\LULC.tif\n",
      "\n"
     ]
    }
   ],
   "source": [
    "tes1 = os.getcwd() + '\\LULC.tif'\n",
    "print(tes1 + \"\\n\")\n",
    "\n",
    "Map.add_raster(tes1, {}, layer_name='LULC')\n"
   ]
  },
  {
   "cell_type": "code",
   "execution_count": 53,
   "metadata": {
    "collapsed": true,
    "jupyter": {
     "outputs_hidden": true
    },
    "tags": []
   },
   "outputs": [
    {
     "data": {
      "application/vnd.jupyter.widget-view+json": {
       "model_id": "afebc3924fd84ecfb8375b741ac65af3",
       "version_major": 2,
       "version_minor": 0
      },
      "text/plain": [
       "Map(bottom=68166.20001220703, center=[-6.3868173785243965, 107.63056957773871], crs={'name': 'EPSG3857', 'cust…"
      ]
     },
     "metadata": {},
     "output_type": "display_data"
    }
   ],
   "source": [
    "Map.clear()"
   ]
  },
  {
   "cell_type": "code",
   "execution_count": 54,
   "metadata": {},
   "outputs": [
    {
     "data": {
      "application/vnd.jupyter.widget-view+json": {
       "model_id": "078fc105d247492991fd19e49edff27c",
       "version_major": 2,
       "version_minor": 0
      },
      "text/plain": [
       "Map(center=[-6.3893832360229545, 107.31268018020506], controls=(WidgetControl(options=['position', 'transparen…"
      ]
     },
     "metadata": {},
     "output_type": "display_data"
    }
   ],
   "source": [
    "Map = geemap.Map(center=(-6.3893832360229545,107.31268018020506), zoom=7)\n",
    "Map"
   ]
  },
  {
   "cell_type": "code",
   "execution_count": 56,
   "metadata": {},
   "outputs": [
    {
     "name": "stderr",
     "output_type": "stream",
     "text": [
      "Downloading...\n",
      "From: https://github.com/giswqs/data/raw/main/raster/srtm90.tif\n",
      "To: E:\\citarum\\jupyter\\srtm90.tif\n",
      "100%|██████████████████████████████████████████████████████████████████████████████| 15.2M/15.2M [00:20<00:00, 744kB/s]\n"
     ]
    },
    {
     "data": {
      "application/vnd.jupyter.widget-view+json": {
       "model_id": "13e8c647dcfd4412b17eb2092936171c",
       "version_major": 2,
       "version_minor": 0
      },
      "text/plain": [
       "Map(center=[20, 0], controls=(WidgetControl(options=['position', 'transparent_bg'], widget=HBox(children=(Togg…"
      ]
     },
     "metadata": {},
     "output_type": "display_data"
    }
   ],
   "source": [
    "url = 'https://github.com/giswqs/data/raw/main/raster/srtm90.tif'\n",
    "filename = 'srtm90.tif'\n",
    "geemap.download_file(url, filename)\n",
    "\n",
    "Map = geemap.Map()\n",
    "Map.add_raster(filename, palette='terrain', layer_name=\"DEM\")\n",
    "vis_params = {'min': 0, 'max': 4000, 'palette': 'terrain'}\n",
    "Map.add_colorbar(vis_params, label='Elevation (m)')\n",
    "Map"
   ]
  },
  {
   "cell_type": "code",
   "execution_count": 58,
   "metadata": {},
   "outputs": [],
   "source": [
    "Map.add_raster('mgwr1_geo.tiff', palette='terrain', layer_name=\"mgwr1_geo.tiff\")"
   ]
  },
  {
   "cell_type": "code",
   "execution_count": 66,
   "metadata": {},
   "outputs": [],
   "source": [
    "mgwr2 = 'mgwr1_geo.tiff'\n",
    "Map.add_raster(mgwr2,  palette='Greens',layer_name='tes122')"
   ]
  },
  {
   "cell_type": "code",
   "execution_count": 70,
   "metadata": {},
   "outputs": [
    {
     "ename": "NameError",
     "evalue": "name 'rasterio' is not defined",
     "output_type": "error",
     "traceback": [
      "\u001b[1;31m---------------------------------------------------------------------------\u001b[0m",
      "\u001b[1;31mNameError\u001b[0m                                 Traceback (most recent call last)",
      "Cell \u001b[1;32mIn[70], line 1\u001b[0m\n\u001b[1;32m----> 1\u001b[0m raster \u001b[38;5;241m=\u001b[39m \u001b[43mrasterio\u001b[49m\u001b[38;5;241m.\u001b[39mopen(\u001b[38;5;124m'\u001b[39m\u001b[38;5;124mmgwr1_geo.tiff\u001b[39m\u001b[38;5;124m'\u001b[39m)\n\u001b[0;32m      3\u001b[0m show(raster)\n",
      "\u001b[1;31mNameError\u001b[0m: name 'rasterio' is not defined"
     ]
    }
   ],
   "source": [
    "raster = rasterio.open('mgwr1_geo.tiff')\n",
    "\n",
    "show(raster)"
   ]
  },
  {
   "cell_type": "code",
   "execution_count": 69,
   "metadata": {},
   "outputs": [
    {
     "ename": "ContextualVersionConflict",
     "evalue": "(xarray 2022.12.0 (c:\\users\\fardh\\anaconda3\\envs\\mgwr38-geemap\\lib\\site-packages), Requirement.parse('xarray<2022.9.0,>2022.3.0'), {'pyvista-xarray'})",
     "output_type": "error",
     "traceback": [
      "\u001b[1;31m---------------------------------------------------------------------------\u001b[0m",
      "\u001b[1;31mContextualVersionConflict\u001b[0m                 Traceback (most recent call last)",
      "Cell \u001b[1;32mIn[69], line 1\u001b[0m\n\u001b[1;32m----> 1\u001b[0m \u001b[43mgeemap\u001b[49m\u001b[38;5;241;43m.\u001b[39;49m\u001b[43mplot_raster\u001b[49m\u001b[43m(\u001b[49m\u001b[38;5;124;43m'\u001b[39;49m\u001b[38;5;124;43mmgwr1_geo.tiff\u001b[39;49m\u001b[38;5;124;43m'\u001b[39;49m\u001b[43m,\u001b[49m\u001b[43m \u001b[49m\u001b[43mcmap\u001b[49m\u001b[38;5;241;43m=\u001b[39;49m\u001b[38;5;124;43m'\u001b[39;49m\u001b[38;5;124;43mterrain\u001b[39;49m\u001b[38;5;124;43m'\u001b[39;49m\u001b[43m,\u001b[49m\u001b[43m \u001b[49m\u001b[43mfigsize\u001b[49m\u001b[38;5;241;43m=\u001b[39;49m\u001b[43m(\u001b[49m\u001b[38;5;241;43m15\u001b[39;49m\u001b[43m,\u001b[49m\u001b[43m \u001b[49m\u001b[38;5;241;43m10\u001b[39;49m\u001b[43m)\u001b[49m\u001b[43m)\u001b[49m\n",
      "File \u001b[1;32m~\\anaconda3\\envs\\mgwr38-GEEMAP\\lib\\site-packages\\geemap\\common.py:12752\u001b[0m, in \u001b[0;36mplot_raster\u001b[1;34m(image, band, cmap, proj, figsize, open_kwargs, **kwargs)\u001b[0m\n\u001b[0;32m  12749\u001b[0m     \u001b[38;5;28;01mreturn\u001b[39;00m\n\u001b[0;32m  12751\u001b[0m \u001b[38;5;28;01mtry\u001b[39;00m:\n\u001b[1;32m> 12752\u001b[0m     \u001b[38;5;28;01mimport\u001b[39;00m \u001b[38;5;21;01mpvxarray\u001b[39;00m\n\u001b[0;32m  12753\u001b[0m     \u001b[38;5;28;01mimport\u001b[39;00m \u001b[38;5;21;01mrioxarray\u001b[39;00m\n\u001b[0;32m  12754\u001b[0m     \u001b[38;5;28;01mimport\u001b[39;00m \u001b[38;5;21;01mxarray\u001b[39;00m\n",
      "File \u001b[1;32m~\\anaconda3\\envs\\mgwr38-GEEMAP\\lib\\site-packages\\pvxarray\\__init__.py:2\u001b[0m\n\u001b[0;32m      1\u001b[0m \u001b[38;5;66;03m# flake8: noqa: F401\u001b[39;00m\n\u001b[1;32m----> 2\u001b[0m \u001b[38;5;28;01mfrom\u001b[39;00m \u001b[38;5;21;01mpvxarray\u001b[39;00m\u001b[38;5;21;01m.\u001b[39;00m\u001b[38;5;21;01m_version\u001b[39;00m \u001b[38;5;28;01mimport\u001b[39;00m __version__\n\u001b[0;32m      3\u001b[0m \u001b[38;5;28;01mfrom\u001b[39;00m \u001b[38;5;21;01mpvxarray\u001b[39;00m\u001b[38;5;21;01m.\u001b[39;00m\u001b[38;5;21;01maccessor\u001b[39;00m \u001b[38;5;28;01mimport\u001b[39;00m PyVistaAccessor\n\u001b[0;32m      4\u001b[0m \u001b[38;5;28;01mfrom\u001b[39;00m \u001b[38;5;21;01mpvxarray\u001b[39;00m\u001b[38;5;21;01m.\u001b[39;00m\u001b[38;5;21;01merrors\u001b[39;00m \u001b[38;5;28;01mimport\u001b[39;00m DataCopyWarning\n",
      "File \u001b[1;32m~\\anaconda3\\envs\\mgwr38-GEEMAP\\lib\\site-packages\\pvxarray\\_version.py:4\u001b[0m\n\u001b[0;32m      1\u001b[0m \u001b[38;5;28;01mfrom\u001b[39;00m \u001b[38;5;21;01mpkg_resources\u001b[39;00m \u001b[38;5;28;01mimport\u001b[39;00m DistributionNotFound, get_distribution\n\u001b[0;32m      3\u001b[0m \u001b[38;5;28;01mtry\u001b[39;00m:\n\u001b[1;32m----> 4\u001b[0m     __version__ \u001b[38;5;241m=\u001b[39m \u001b[43mget_distribution\u001b[49m\u001b[43m(\u001b[49m\u001b[38;5;124;43m\"\u001b[39;49m\u001b[38;5;124;43mpyvista-xarray\u001b[39;49m\u001b[38;5;124;43m\"\u001b[39;49m\u001b[43m)\u001b[49m\u001b[38;5;241m.\u001b[39mversion\n\u001b[0;32m      5\u001b[0m \u001b[38;5;28;01mexcept\u001b[39;00m DistributionNotFound:  \u001b[38;5;66;03m# pragma: no cover\u001b[39;00m\n\u001b[0;32m      6\u001b[0m     \u001b[38;5;66;03m# package is not installed\u001b[39;00m\n\u001b[0;32m      7\u001b[0m     __version__ \u001b[38;5;241m=\u001b[39m \u001b[38;5;28;01mNone\u001b[39;00m\n",
      "File \u001b[1;32m~\\anaconda3\\envs\\mgwr38-GEEMAP\\lib\\site-packages\\pkg_resources\\__init__.py:478\u001b[0m, in \u001b[0;36mget_distribution\u001b[1;34m(dist)\u001b[0m\n\u001b[0;32m    476\u001b[0m     dist \u001b[38;5;241m=\u001b[39m Requirement\u001b[38;5;241m.\u001b[39mparse(dist)\n\u001b[0;32m    477\u001b[0m \u001b[38;5;28;01mif\u001b[39;00m \u001b[38;5;28misinstance\u001b[39m(dist, Requirement):\n\u001b[1;32m--> 478\u001b[0m     dist \u001b[38;5;241m=\u001b[39m \u001b[43mget_provider\u001b[49m\u001b[43m(\u001b[49m\u001b[43mdist\u001b[49m\u001b[43m)\u001b[49m\n\u001b[0;32m    479\u001b[0m \u001b[38;5;28;01mif\u001b[39;00m \u001b[38;5;129;01mnot\u001b[39;00m \u001b[38;5;28misinstance\u001b[39m(dist, Distribution):\n\u001b[0;32m    480\u001b[0m     \u001b[38;5;28;01mraise\u001b[39;00m \u001b[38;5;167;01mTypeError\u001b[39;00m(\u001b[38;5;124m\"\u001b[39m\u001b[38;5;124mExpected string, Requirement, or Distribution\u001b[39m\u001b[38;5;124m\"\u001b[39m, dist)\n",
      "File \u001b[1;32m~\\anaconda3\\envs\\mgwr38-GEEMAP\\lib\\site-packages\\pkg_resources\\__init__.py:354\u001b[0m, in \u001b[0;36mget_provider\u001b[1;34m(moduleOrReq)\u001b[0m\n\u001b[0;32m    352\u001b[0m \u001b[38;5;124;03m\"\"\"Return an IResourceProvider for the named module or requirement\"\"\"\u001b[39;00m\n\u001b[0;32m    353\u001b[0m \u001b[38;5;28;01mif\u001b[39;00m \u001b[38;5;28misinstance\u001b[39m(moduleOrReq, Requirement):\n\u001b[1;32m--> 354\u001b[0m     \u001b[38;5;28;01mreturn\u001b[39;00m working_set\u001b[38;5;241m.\u001b[39mfind(moduleOrReq) \u001b[38;5;129;01mor\u001b[39;00m \u001b[43mrequire\u001b[49m\u001b[43m(\u001b[49m\u001b[38;5;28;43mstr\u001b[39;49m\u001b[43m(\u001b[49m\u001b[43mmoduleOrReq\u001b[49m\u001b[43m)\u001b[49m\u001b[43m)\u001b[49m[\u001b[38;5;241m0\u001b[39m]\n\u001b[0;32m    355\u001b[0m \u001b[38;5;28;01mtry\u001b[39;00m:\n\u001b[0;32m    356\u001b[0m     module \u001b[38;5;241m=\u001b[39m sys\u001b[38;5;241m.\u001b[39mmodules[moduleOrReq]\n",
      "File \u001b[1;32m~\\anaconda3\\envs\\mgwr38-GEEMAP\\lib\\site-packages\\pkg_resources\\__init__.py:909\u001b[0m, in \u001b[0;36mWorkingSet.require\u001b[1;34m(self, *requirements)\u001b[0m\n\u001b[0;32m    900\u001b[0m \u001b[38;5;28;01mdef\u001b[39;00m \u001b[38;5;21mrequire\u001b[39m(\u001b[38;5;28mself\u001b[39m, \u001b[38;5;241m*\u001b[39mrequirements):\n\u001b[0;32m    901\u001b[0m     \u001b[38;5;124;03m\"\"\"Ensure that distributions matching `requirements` are activated\u001b[39;00m\n\u001b[0;32m    902\u001b[0m \n\u001b[0;32m    903\u001b[0m \u001b[38;5;124;03m    `requirements` must be a string or a (possibly-nested) sequence\u001b[39;00m\n\u001b[1;32m   (...)\u001b[0m\n\u001b[0;32m    907\u001b[0m \u001b[38;5;124;03m    included, even if they were already activated in this working set.\u001b[39;00m\n\u001b[0;32m    908\u001b[0m \u001b[38;5;124;03m    \"\"\"\u001b[39;00m\n\u001b[1;32m--> 909\u001b[0m     needed \u001b[38;5;241m=\u001b[39m \u001b[38;5;28;43mself\u001b[39;49m\u001b[38;5;241;43m.\u001b[39;49m\u001b[43mresolve\u001b[49m\u001b[43m(\u001b[49m\u001b[43mparse_requirements\u001b[49m\u001b[43m(\u001b[49m\u001b[43mrequirements\u001b[49m\u001b[43m)\u001b[49m\u001b[43m)\u001b[49m\n\u001b[0;32m    911\u001b[0m     \u001b[38;5;28;01mfor\u001b[39;00m dist \u001b[38;5;129;01min\u001b[39;00m needed:\n\u001b[0;32m    912\u001b[0m         \u001b[38;5;28mself\u001b[39m\u001b[38;5;241m.\u001b[39madd(dist)\n",
      "File \u001b[1;32m~\\anaconda3\\envs\\mgwr38-GEEMAP\\lib\\site-packages\\pkg_resources\\__init__.py:800\u001b[0m, in \u001b[0;36mWorkingSet.resolve\u001b[1;34m(self, requirements, env, installer, replace_conflicting, extras)\u001b[0m\n\u001b[0;32m    797\u001b[0m \u001b[38;5;28;01mif\u001b[39;00m dist \u001b[38;5;129;01mnot\u001b[39;00m \u001b[38;5;129;01min\u001b[39;00m req:\n\u001b[0;32m    798\u001b[0m     \u001b[38;5;66;03m# Oops, the \"best\" so far conflicts with a dependency\u001b[39;00m\n\u001b[0;32m    799\u001b[0m     dependent_req \u001b[38;5;241m=\u001b[39m required_by[req]\n\u001b[1;32m--> 800\u001b[0m     \u001b[38;5;28;01mraise\u001b[39;00m VersionConflict(dist, req)\u001b[38;5;241m.\u001b[39mwith_context(dependent_req)\n\u001b[0;32m    802\u001b[0m \u001b[38;5;66;03m# push the new requirements onto the stack\u001b[39;00m\n\u001b[0;32m    803\u001b[0m new_requirements \u001b[38;5;241m=\u001b[39m dist\u001b[38;5;241m.\u001b[39mrequires(req\u001b[38;5;241m.\u001b[39mextras)[::\u001b[38;5;241m-\u001b[39m\u001b[38;5;241m1\u001b[39m]\n",
      "\u001b[1;31mContextualVersionConflict\u001b[0m: (xarray 2022.12.0 (c:\\users\\fardh\\anaconda3\\envs\\mgwr38-geemap\\lib\\site-packages), Requirement.parse('xarray<2022.9.0,>2022.3.0'), {'pyvista-xarray'})"
     ]
    }
   ],
   "source": [
    "geemap.plot_raster('mgwr1_geo.tiff', cmap='terrain', figsize=(15, 10))\n"
   ]
  },
  {
   "cell_type": "code",
   "execution_count": 71,
   "metadata": {},
   "outputs": [
    {
     "ename": "NameError",
     "evalue": "name 'ListedColormap' is not defined",
     "output_type": "error",
     "traceback": [
      "\u001b[1;31m---------------------------------------------------------------------------\u001b[0m",
      "\u001b[1;31mNameError\u001b[0m                                 Traceback (most recent call last)",
      "Cell \u001b[1;32mIn[71], line 2\u001b[0m\n\u001b[0;32m      1\u001b[0m \u001b[38;5;66;03m# Define the colors you want\u001b[39;00m\n\u001b[1;32m----> 2\u001b[0m cmap \u001b[38;5;241m=\u001b[39m \u001b[43mListedColormap\u001b[49m([\u001b[38;5;124m\"\u001b[39m\u001b[38;5;124mwhite\u001b[39m\u001b[38;5;124m\"\u001b[39m, \u001b[38;5;124m\"\u001b[39m\u001b[38;5;124mtan\u001b[39m\u001b[38;5;124m\"\u001b[39m, \u001b[38;5;124m\"\u001b[39m\u001b[38;5;124mspringgreen\u001b[39m\u001b[38;5;124m\"\u001b[39m, \u001b[38;5;124m\"\u001b[39m\u001b[38;5;124mdarkgreen\u001b[39m\u001b[38;5;124m\"\u001b[39m])\n\u001b[0;32m      4\u001b[0m \u001b[38;5;66;03m# Define a normalization from values -> colors\u001b[39;00m\n\u001b[0;32m      5\u001b[0m norm \u001b[38;5;241m=\u001b[39m colors\u001b[38;5;241m.\u001b[39mBoundaryNorm([\u001b[38;5;241m0\u001b[39m, \u001b[38;5;241m2\u001b[39m, \u001b[38;5;241m10\u001b[39m, \u001b[38;5;241m20\u001b[39m, \u001b[38;5;241m30\u001b[39m], \u001b[38;5;241m5\u001b[39m)\n",
      "\u001b[1;31mNameError\u001b[0m: name 'ListedColormap' is not defined"
     ]
    }
   ],
   "source": [
    "# Define the colors you want\n",
    "cmap = ListedColormap([\"white\", \"tan\", \"springgreen\", \"darkgreen\"])\n",
    "\n",
    "# Define a normalization from values -> colors\n",
    "norm = colors.BoundaryNorm([0, 2, 10, 20, 30], 5)"
   ]
  }
 ],
 "metadata": {
  "anaconda-cloud": {},
  "kernelspec": {
   "display_name": "Python 3 (ipykernel)",
   "language": "python",
   "name": "python3"
  },
  "language_info": {
   "codemirror_mode": {
    "name": "ipython",
    "version": 3
   },
   "file_extension": ".py",
   "mimetype": "text/x-python",
   "name": "python",
   "nbconvert_exporter": "python",
   "pygments_lexer": "ipython3",
   "version": "3.8.13"
  }
 },
 "nbformat": 4,
 "nbformat_minor": 4
}
