{
 "cells": [
  {
   "cell_type": "code",
   "execution_count": 1,
   "metadata": {},
   "outputs": [],
   "source": [
    "import os\n",
    "import sys\n",
    "import time\n",
    "import argparse\n",
    "import geopandas as gpd\n",
    "import fiona\n",
    "import rasterio as rio\n",
    "from rasterstats import zonal_stats\n",
    "import numpy as np\n",
    "import pandas as pd\n",
    "import matplotlib.pyplot as plt\n",
    "from mgwr.gwr import MGWR\n",
    "from mgwr.sel_bw import Sel_BW\n",
    "from mgwr.utils import shift_colormap, truncate_colormap\n",
    "from datetime import datetime\n",
    "import glob\n",
    "import pathlib\n"
   ]
  },
  {
   "cell_type": "code",
   "execution_count": 2,
   "metadata": {},
   "outputs": [
    {
     "name": "stdout",
     "output_type": "stream",
     "text": [
      "e:\\citarum\\GeoAnalisisGEE\n",
      "e:\\citarum\\GeoAnalisisGEE\\output\n"
     ]
    }
   ],
   "source": [
    "folder_root = os.getcwd()\n",
    "print(folder_root)\n",
    "\n",
    "folder_results =  os.path.join(folder_root, 'output')\n",
    "print(folder_results)"
   ]
  },
  {
   "cell_type": "code",
   "execution_count": 3,
   "metadata": {},
   "outputs": [
    {
     "name": "stdout",
     "output_type": "stream",
     "text": [
      "e:\\citarum\\GeoAnalisisGEE\\input\\vektor\\batas_kecamatan_citarum_48S.shp\n"
     ]
    }
   ],
   "source": [
    "kecamatan_polygon_file = os.path.join(folder_root, 'input', 'vektor', 'batas_kecamatan_citarum_48S.shp')\n",
    "print(kecamatan_polygon_file)\n",
    "gdf = gpd.read_file(kecamatan_polygon_file)\n",
    "\n",
    "crs = gdf.crs\n",
    "gdf['x_utm'] = gdf.centroid.x\n",
    "gdf['y_utm'] = gdf.centroid.y"
   ]
  },
  {
   "cell_type": "code",
   "execution_count": 4,
   "metadata": {},
   "outputs": [
    {
     "name": "stdout",
     "output_type": "stream",
     "text": [
      "                                                   0\n",
      "0  e:\\citarum\\GeoAnalisisGEE\\input\\raster\\2020_de...\n",
      "1  e:\\citarum\\GeoAnalisisGEE\\input\\raster\\2020_de...\n",
      "2  e:\\citarum\\GeoAnalisisGEE\\input\\raster\\2020_et...\n",
      "3  e:\\citarum\\GeoAnalisisGEE\\input\\raster\\2020_fr...\n",
      "4  e:\\citarum\\GeoAnalisisGEE\\input\\raster\\2020_pa...\n",
      "5  e:\\citarum\\GeoAnalisisGEE\\input\\raster\\2020_pr...\n",
      "6\n",
      "                                        filenamelong                filename  \\\n",
      "0  e:\\citarum\\GeoAnalisisGEE\\input\\raster\\2020_de...            2020_dem.tif   \n",
      "1  e:\\citarum\\GeoAnalisisGEE\\input\\raster\\2020_de...  2020_depth_to_root.tif   \n",
      "2  e:\\citarum\\GeoAnalisisGEE\\input\\raster\\2020_et...            2020_eto.tif   \n",
      "3  e:\\citarum\\GeoAnalisisGEE\\input\\raster\\2020_fr...         2020_fractp.tif   \n",
      "4  e:\\citarum\\GeoAnalisisGEE\\input\\raster\\2020_pa...           2020_pawc.tif   \n",
      "5  e:\\citarum\\GeoAnalisisGEE\\input\\raster\\2020_pr...  2020_precipitation.tif   \n",
      "\n",
      "            parameter  \n",
      "0            2020_dem  \n",
      "1  2020_depth_to_root  \n",
      "2            2020_eto  \n",
      "3         2020_fractp  \n",
      "4           2020_pawc  \n",
      "5  2020_precipitation  \n"
     ]
    }
   ],
   "source": [
    "list_raster_file = glob.glob(os.path.join(folder_root, 'input', 'raster', '*.tif'))\n",
    "df_raster_file = pd.DataFrame(list_raster_file)\n",
    "df_raster_file = df_raster_file.astype('string')\n",
    "print(df_raster_file)\n",
    "print(len(df_raster_file))\n",
    "list(df_raster_file)\n",
    "df_raster_file.rename(columns = {0:'filenamelong'}, inplace = True)\n",
    "\n",
    "df_raster_file['filename'] = df_raster_file[\"filenamelong\"].str.split(\"\\\\\").str[-1]\n",
    "df_raster_file['parameter'] = df_raster_file[\"filename\"].str.split(\".\").str[0]\n",
    "print(df_raster_file)\n"
   ]
  },
  {
   "cell_type": "code",
   "execution_count": 5,
   "metadata": {},
   "outputs": [
    {
     "name": "stdout",
     "output_type": "stream",
     "text": [
      "2020_dem\n",
      "2020_depth_to_root\n",
      "2020_eto\n",
      "2020_fractp\n",
      "2020_pawc\n",
      "2020_precipitation\n"
     ]
    }
   ],
   "source": [
    "vars = []\n",
    "zstats_merged = []\n",
    "\n",
    "for ind in df_raster_file.index:\n",
    "    raster_data = rio.open(df_raster_file['filenamelong'][ind], \"r\")  \n",
    "    parameter = df_raster_file[\"parameter\"][ind]\n",
    "    print(parameter)\n",
    "    profile = raster_data.profile\n",
    "    transform = profile['transform']\n",
    "    nodata = raster_data.nodata\n",
    "\n",
    "    img = raster_data.read(1)\n",
    "    img = img.astype('float32') \n",
    "    img[img==nodata] = np.nan\n",
    "    zstats = zonal_stats(gdf, img, affine=transform, prefix= f'{parameter}_', nodata=nodata, stats='mean')\n",
    "    zstats_merged.append(zstats) # zstats_merged is now a 2D list of lists [bands, shapes]\n",
    "    vars.append(f'{parameter}_mean')\n",
    " "
   ]
  },
  {
   "cell_type": "code",
   "execution_count": 6,
   "metadata": {},
   "outputs": [],
   "source": [
    "# Flip the dimensions using zip\n",
    "zstats_merged_list = list(zip(*zstats_merged))\n",
    "# Aggregate into a single list (dimension: shapes) containing bands\n",
    "final_zstats = [{k: v for d in s for k, v in d.items()} for s in zstats_merged_list]\n",
    "# Convert zonal statistic results to pandas dataframe\n",
    "df_zstats = pd.DataFrame(final_zstats)"
   ]
  },
  {
   "cell_type": "code",
   "execution_count": 7,
   "metadata": {},
   "outputs": [
    {
     "name": "stdout",
     "output_type": "stream",
     "text": [
      "     2020_dem_mean  2020_depth_to_root_mean  2020_eto_mean  2020_fractp_mean  \\\n",
      "0      1837.818220               710.461660     876.374197          0.242982   \n",
      "1      1629.247037              1500.000000    1523.854819          0.490222   \n",
      "2       665.892403              1412.489325    1788.269518          0.454936   \n",
      "3       129.179042               920.715664    1977.316302          0.335631   \n",
      "4       338.112009               842.813500    1891.811341          0.428654   \n",
      "..             ...                      ...            ...               ...   \n",
      "170     891.696451               500.000000    1833.100000          0.465885   \n",
      "171     720.570509               536.442208    1886.590887          0.472731   \n",
      "172     743.960604               502.740981    1894.872615          0.473634   \n",
      "173     820.127722               500.000000    1858.025568          0.540017   \n",
      "174     216.835217               947.868718    1992.714877          0.839729   \n",
      "\n",
      "     2020_pawc_mean  2020_precipitation_mean  \n",
      "0          0.198823              2120.059251  \n",
      "1          0.110000              1545.628443  \n",
      "2          0.120636              1728.290645  \n",
      "3          0.136508              2784.199650  \n",
      "4          0.141626              2049.406917  \n",
      "..              ...                      ...  \n",
      "170        0.210000              1486.548593  \n",
      "171        0.184663              1305.011870  \n",
      "172        0.209843              1240.329084  \n",
      "173        0.210000              1240.663094  \n",
      "174        0.135976              1963.222584  \n",
      "\n",
      "[175 rows x 6 columns]\n"
     ]
    }
   ],
   "source": [
    "print(df_zstats)\n",
    "pd.DataFrame(df_zstats).to_csv('sample.csv')    "
   ]
  },
  {
   "cell_type": "code",
   "execution_count": 8,
   "metadata": {},
   "outputs": [
    {
     "name": "stdout",
     "output_type": "stream",
     "text": [
      "Final input data shape: (169, 17)\n",
      "Independent variables: (169, 5)\n",
      "Dependent variable: (169, 1)\n",
      "Start MGWR ....\n"
     ]
    },
    {
     "data": {
      "application/vnd.jupyter.widget-view+json": {
       "model_id": "2ba79026349e4d4eac4e136e4d85d3b4",
       "version_major": 2,
       "version_minor": 0
      },
      "text/plain": [
       "Backfitting:   0%|          | 0/200 [00:00<?, ?it/s]"
      ]
     },
     "metadata": {},
     "output_type": "display_data"
    },
    {
     "name": "stdout",
     "output_type": "stream",
     "text": [
      "MGWR bandwidth: [ 56. 164.  71.  51.  71. 168.]\n"
     ]
    },
    {
     "data": {
      "application/vnd.jupyter.widget-view+json": {
       "model_id": "043d555ef0764033846e6fb896e923d6",
       "version_major": 2,
       "version_minor": 0
      },
      "text/plain": [
       "Inference:   0%|          | 0/1 [00:00<?, ?it/s]"
      ]
     },
     "metadata": {},
     "output_type": "display_data"
    },
    {
     "name": "stdout",
     "output_type": "stream",
     "text": [
      "===========================================================================\n",
      "Model type                                                         Gaussian\n",
      "Number of observations:                                                 169\n",
      "Number of covariates:                                                     6\n",
      "\n",
      "Global Regression Results\n",
      "---------------------------------------------------------------------------\n",
      "Residual sum of squares:                                             22.897\n",
      "Log-likelihood:                                                     -70.895\n",
      "AIC:                                                                153.789\n",
      "AICc:                                                               156.485\n",
      "BIC:                                                               -813.276\n",
      "R2:                                                                   0.865\n",
      "Adj. R2:                                                              0.860\n",
      "\n",
      "Variable                              Est.         SE  t(Est/SE)    p-value\n",
      "------------------------------- ---------- ---------- ---------- ----------\n",
      "X0                                   0.000      0.029      0.000      1.000\n",
      "X1                                   0.049      0.038      1.303      0.192\n",
      "X2                                  -0.841      0.035    -24.031      0.000\n",
      "X3                                  -0.221      0.039     -5.660      0.000\n",
      "X4                                   0.067      0.037      1.832      0.067\n",
      "X5                                  -0.264      0.041     -6.358      0.000\n",
      "\n",
      "Multi-Scale Geographically Weighted Regression (MGWR) Results\n",
      "---------------------------------------------------------------------------\n",
      "Spatial kernel:                                           Adaptive bisquare\n",
      "Criterion for optimal bandwidth:                                       AICc\n",
      "Score of Change (SOC) type:                                     Smoothing f\n",
      "Termination criterion for MGWR:                                       1e-05\n",
      "\n",
      "MGWR bandwidths\n",
      "---------------------------------------------------------------------------\n",
      "Variable             Bandwidth      ENP_j   Adj t-val(95%)   Adj alpha(95%)\n",
      "X0                      56.000      5.182            2.618            0.010\n",
      "X1                     164.000      1.462            2.135            0.034\n",
      "X2                      71.000      5.025            2.607            0.010\n",
      "X3                      51.000      7.385            2.742            0.007\n",
      "X4                      71.000      4.774            2.589            0.010\n",
      "X5                     168.000      1.188            2.048            0.042\n",
      "\n",
      "Diagnostic information\n",
      "---------------------------------------------------------------------------\n",
      "Residual sum of squares:                                              5.264\n",
      "Effective number of parameters (trace(S)):                           25.014\n",
      "Degree of freedom (n - trace(S)):                                   143.986\n",
      "Sigma estimate:                                                       0.191\n",
      "Log-likelihood:                                                      53.332\n",
      "AIC:                                                                -54.635\n",
      "AICc:                                                               -44.736\n",
      "BIC:                                                                 26.787\n",
      "R2                                                                    0.969\n",
      "Adjusted R2                                                           0.963\n",
      "\n",
      "Summary Statistics For MGWR Parameter Estimates\n",
      "---------------------------------------------------------------------------\n",
      "Variable                   Mean        STD        Min     Median        Max\n",
      "-------------------- ---------- ---------- ---------- ---------- ----------\n",
      "X0                        0.026      0.299     -0.483      0.209      0.317\n",
      "X1                       -0.000      0.007     -0.013     -0.003      0.016\n",
      "X2                       -0.828      0.097     -0.940     -0.851     -0.614\n",
      "X3                       -0.071      0.070     -0.271     -0.053      0.051\n",
      "X4                        0.010      0.030     -0.071      0.018      0.088\n",
      "X5                       -0.071      0.004     -0.080     -0.069     -0.066\n",
      "===========================================================================\n",
      "\n",
      "MGWR complete. Elapsed time (minutes): 0.336799693107605\n",
      "Prepare MGWR results for mapping ...\n"
     ]
    }
   ],
   "source": [
    " # Merge zones and zonal statistics data frame\n",
    "gdf = gdf.join(df_zstats)\n",
    "\n",
    "# Clean the data\n",
    "gdf = gdf.dropna()\n",
    "print('Final input data shape: {}'.format(gdf.shape))\n",
    "\n",
    "# Prepare datasets input\n",
    "y = gdf[vars[0]].values.reshape((-1,1))\n",
    "X = gdf[list(vars[1:])].values\n",
    "coords = list(zip(gdf['x_utm'],gdf['y_utm']))\n",
    "\n",
    "print('Independent variables: {}'.format(X.shape))\n",
    "print('Dependent variable: {}'.format(y.shape))\n",
    "\n",
    "X = (X - X.mean(axis=0)) / X.std(axis=0)\n",
    "y = (y - y.mean(axis=0)) / y.std(axis=0)\n",
    "\n",
    "# Calibrate MGWR model\n",
    "print('Start MGWR ....')\n",
    "start_time = time.time()\n",
    "mgwr_selector = Sel_BW(coords, y, X, multi=True)\n",
    "mgwr_bw = mgwr_selector.search(multi_bw_min=[2])\n",
    "print('MGWR bandwidth: {}'.format(mgwr_bw))\n",
    "mgwr_results = MGWR(coords, y, X, mgwr_selector).fit()\n",
    "mgwr_results.summary()\n",
    "elapsed_time = (time.time() - start_time)/60\n",
    "print('MGWR complete. Elapsed time (minutes): '+str(elapsed_time))\n",
    "\n",
    "print('Prepare MGWR results for mapping ...')\n",
    "# Obtain t-vals filtered based on multiple testing correction\n",
    "mgwr_filtered_t = mgwr_results.filter_tvals()\n",
    "\n"
   ]
  },
  {
   "cell_type": "code",
   "execution_count": 9,
   "metadata": {},
   "outputs": [
    {
     "name": "stdout",
     "output_type": "stream",
     "text": [
      "Prepare MGWR results for mapping ...\n",
      "Save output as vector shapefile ....\n"
     ]
    },
    {
     "name": "stderr",
     "output_type": "stream",
     "text": [
      "C:\\Users\\fardh\\AppData\\Local\\Temp\\ipykernel_14528\\465978188.py:38: UserWarning: Column names longer than 10 characters will be truncated when saved to ESRI Shapefile.\n",
      "  gdf.to_file(folder_results + '\\\\shp\\\\output1.shp')\n"
     ]
    },
    {
     "name": "stdout",
     "output_type": "stream",
     "text": [
      "2023-01-21 12:15:46.051379-Done!\n"
     ]
    }
   ],
   "source": [
    "print('Prepare MGWR results for mapping ...')\n",
    "    # Obtain t-vals filtered based on multiple testing correction\n",
    "mgwr_filtered_t = mgwr_results.filter_tvals()\n",
    "\n",
    "    # Plot MGWR parameters\n",
    "for i in range(1, 6):\n",
    "    if i-1==0:\n",
    "        param = 'mgwr_intercept'\n",
    "    else:\n",
    "        param = f'mgwr_b{i}'\n",
    "    \n",
    "    # Add MGWR parameters to GeoDataframe\n",
    "    gdf[param] = mgwr_results.params[:,i-1]\n",
    "    \n",
    "    # Set color map\n",
    "    vmin = gdf[param].min()\n",
    "    vmax = gdf[param].max()\n",
    "    cmap = plt.cm.seismic\n",
    "\n",
    "    # Create scalar mappable for colorbar and stretch colormap across range of data values\n",
    "    sm = plt.cm.ScalarMappable(cmap=cmap, norm=plt.Normalize(vmin=vmin, vmax=vmax))\n",
    "\n",
    "    # Plot\n",
    "    fig, ax = plt.subplots(nrows=1, ncols=1)\n",
    "    fig.set_size_inches(8, 6)\n",
    "    ax.set_title(param, fontsize=10)\n",
    "    gdf.plot(column=param,\n",
    "        ax=ax,\n",
    "        legend=True,\n",
    "        cmap=sm.cmap, vmin=vmin, vmax=vmax, **{'edgecolor':'black', 'alpha':.65})\n",
    "    if (mgwr_filtered_t[:,0] == 0).any(): #If there are insignificant parameters plot gray polygons over them\n",
    "        gdf[mgwr_filtered_t[:,0] == 0].plot(color='lightgrey', ax=ax, **{'edgecolor':'black'})\n",
    "    plt.savefig(folder_results + '\\\\png\\\\'+ param +'.png', dpi=100)\n",
    "    plt.close()\n",
    "\n",
    "print('Save output as vector shapefile ....')\n",
    "with fiona.Env(OSR_WKT_FORMAT='WKT2_2018'):\n",
    "    gdf.to_file(folder_results + '\\\\shp\\\\output1.shp')\n",
    "\n",
    "print('{}-Done!'.format(datetime.now()))"
   ]
  },
  {
   "cell_type": "code",
   "execution_count": 1,
   "metadata": {},
   "outputs": [],
   "source": [
    "import ee\n",
    "import geemap"
   ]
  },
  {
   "cell_type": "code",
   "execution_count": null,
   "metadata": {},
   "outputs": [],
   "source": [
    "Map = geemap.Map(center=(-6.3893832360229545,107.31268018020506), zoom=7)\n",
    "Map"
   ]
  },
  {
   "cell_type": "code",
   "execution_count": null,
   "metadata": {},
   "outputs": [],
   "source": [
    "result1_shp = gpd.read_file(folder_results + '\\\\shp\\\\output1.shp')\n",
    "citarum_kecamatan = geemap.shp_to_ee(folder_results + '\\\\shp\\\\output1.shp')\n",
    "\n",
    "Map.addLayer(citarum_kecamatan, {}, 'citarum_kecamatan')"
   ]
  }
 ],
 "metadata": {
  "kernelspec": {
   "display_name": "mgwr38-GEEMAP",
   "language": "python",
   "name": "python3"
  },
  "language_info": {
   "codemirror_mode": {
    "name": "ipython",
    "version": 3
   },
   "file_extension": ".py",
   "mimetype": "text/x-python",
   "name": "python",
   "nbconvert_exporter": "python",
   "pygments_lexer": "ipython3",
   "version": "3.8.13"
  },
  "orig_nbformat": 4,
  "vscode": {
   "interpreter": {
    "hash": "76002033938b449d50a82131dbdce7d5f821fb1e5c6ee8a2c0e9025e7b929f8b"
   }
  }
 },
 "nbformat": 4,
 "nbformat_minor": 2
}
