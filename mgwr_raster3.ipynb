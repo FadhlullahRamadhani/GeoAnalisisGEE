{
 "cells": [
  {
   "cell_type": "code",
   "execution_count": 3,
   "metadata": {},
   "outputs": [],
   "source": [
    "import os\n",
    "import sys\n",
    "import time\n",
    "import argparse\n",
    "import geopandas as gpd\n",
    "import fiona\n",
    "import rasterio as rio\n",
    "from rasterstats import zonal_stats\n",
    "import numpy as np\n",
    "import pandas as pd\n",
    "import matplotlib.pyplot as plt\n",
    "from mgwr.gwr import MGWR\n",
    "from mgwr.sel_bw import Sel_BW\n",
    "from mgwr.utils import shift_colormap, truncate_colormap\n",
    "from datetime import datetime\n",
    "import glob\n",
    "import pathlib\n"
   ]
  },
  {
   "cell_type": "code",
   "execution_count": 4,
   "metadata": {},
   "outputs": [
    {
     "name": "stdout",
     "output_type": "stream",
     "text": [
      "e:\\citarum\\GeoAnalisisGEE\n",
      "e:\\citarum\\GeoAnalisisGEE\\output\n"
     ]
    }
   ],
   "source": [
    "folder_root = os.getcwd()\n",
    "print(folder_root)\n",
    "\n",
    "folder_results =  os.path.join(folder_root, 'output')\n",
    "print(folder_results)"
   ]
  },
  {
   "cell_type": "code",
   "execution_count": 5,
   "metadata": {},
   "outputs": [
    {
     "name": "stdout",
     "output_type": "stream",
     "text": [
      "e:\\citarum\\GeoAnalisisGEE\\input\\vektor\\batas_desa_citarum_48S.shp\n"
     ]
    }
   ],
   "source": [
    "desa_polygon_file = os.path.join(folder_root, 'input', 'vektor', 'batas_desa_citarum_48S.shp')\n",
    "print(desa_polygon_file)\n",
    "gdf = gpd.read_file(desa_polygon_file)\n",
    "\n",
    "crs = gdf.crs\n",
    "gdf['x_utm'] = gdf.centroid.x\n",
    "gdf['y_utm'] = gdf.centroid.y"
   ]
  },
  {
   "cell_type": "code",
   "execution_count": 6,
   "metadata": {},
   "outputs": [
    {
     "name": "stdout",
     "output_type": "stream",
     "text": [
      "                                                   0\n",
      "0  e:\\citarum\\GeoAnalisisGEE\\input\\raster\\2020_de...\n",
      "1  e:\\citarum\\GeoAnalisisGEE\\input\\raster\\2020_de...\n",
      "2  e:\\citarum\\GeoAnalisisGEE\\input\\raster\\2020_et...\n",
      "3  e:\\citarum\\GeoAnalisisGEE\\input\\raster\\2020_fr...\n",
      "4  e:\\citarum\\GeoAnalisisGEE\\input\\raster\\2020_pa...\n",
      "5  e:\\citarum\\GeoAnalisisGEE\\input\\raster\\2020_pr...\n",
      "6\n",
      "                                        filenamelong                filename  \\\n",
      "0  e:\\citarum\\GeoAnalisisGEE\\input\\raster\\2020_de...            2020_dem.tif   \n",
      "1  e:\\citarum\\GeoAnalisisGEE\\input\\raster\\2020_de...  2020_depth_to_root.tif   \n",
      "2  e:\\citarum\\GeoAnalisisGEE\\input\\raster\\2020_et...            2020_eto.tif   \n",
      "3  e:\\citarum\\GeoAnalisisGEE\\input\\raster\\2020_fr...         2020_fractp.tif   \n",
      "4  e:\\citarum\\GeoAnalisisGEE\\input\\raster\\2020_pa...           2020_pawc.tif   \n",
      "5  e:\\citarum\\GeoAnalisisGEE\\input\\raster\\2020_pr...  2020_precipitation.tif   \n",
      "\n",
      "            parameter  \n",
      "0            2020_dem  \n",
      "1  2020_depth_to_root  \n",
      "2            2020_eto  \n",
      "3         2020_fractp  \n",
      "4           2020_pawc  \n",
      "5  2020_precipitation  \n"
     ]
    }
   ],
   "source": [
    "list_raster_file = glob.glob(os.path.join(folder_root, 'input', 'raster', '*.tif'))\n",
    "df_raster_file = pd.DataFrame(list_raster_file)\n",
    "df_raster_file = df_raster_file.astype('string')\n",
    "print(df_raster_file)\n",
    "print(len(df_raster_file))\n",
    "list(df_raster_file)\n",
    "df_raster_file.rename(columns = {0:'filenamelong'}, inplace = True)\n",
    "\n",
    "df_raster_file['filename'] = df_raster_file[\"filenamelong\"].str.split(\"\\\\\").str[-1]\n",
    "df_raster_file['parameter'] = df_raster_file[\"filename\"].str.split(\".\").str[0]\n",
    "print(df_raster_file)\n"
   ]
  },
  {
   "cell_type": "code",
   "execution_count": 7,
   "metadata": {},
   "outputs": [
    {
     "name": "stdout",
     "output_type": "stream",
     "text": [
      "2020_dem\n",
      "2020_depth_to_root\n",
      "2020_eto\n",
      "2020_fractp\n",
      "2020_pawc\n",
      "2020_precipitation\n"
     ]
    }
   ],
   "source": [
    "vars = []\n",
    "zstats_merged = []\n",
    "\n",
    "for ind in df_raster_file.index:\n",
    "    raster_data = rio.open(df_raster_file['filenamelong'][ind], \"r\")  \n",
    "    parameter = df_raster_file[\"parameter\"][ind]\n",
    "    print(parameter)\n",
    "    profile = raster_data.profile\n",
    "    transform = profile['transform']\n",
    "    nodata = raster_data.nodata\n",
    "\n",
    "    img = raster_data.read(1)\n",
    "    img = img.astype('float32') \n",
    "    img[img==nodata] = np.nan\n",
    "    zstats = zonal_stats(gdf, img, affine=transform, prefix= f'{parameter}_', nodata=nodata, stats='mean')\n",
    "    zstats_merged.append(zstats) # zstats_merged is now a 2D list of lists [bands, shapes]\n",
    "    vars.append(f'{parameter}_mean')\n",
    " "
   ]
  },
  {
   "cell_type": "code",
   "execution_count": 8,
   "metadata": {},
   "outputs": [],
   "source": [
    "# Flip the dimensions using zip\n",
    "zstats_merged_list = list(zip(*zstats_merged))\n",
    "# Aggregate into a single list (dimension: shapes) containing bands\n",
    "final_zstats = [{k: v for d in s for k, v in d.items()} for s in zstats_merged_list]\n",
    "# Convert zonal statistic results to pandas dataframe\n",
    "df_zstats = pd.DataFrame(final_zstats)"
   ]
  },
  {
   "cell_type": "code",
   "execution_count": 9,
   "metadata": {},
   "outputs": [
    {
     "name": "stdout",
     "output_type": "stream",
     "text": [
      "      2020_dem_mean  2020_depth_to_root_mean  2020_eto_mean  2020_fractp_mean  \\\n",
      "0       1857.049733               700.000000     874.982169          0.242370   \n",
      "1       1662.493644               806.024096    1579.000000          0.542684   \n",
      "2       1629.247037              1500.000000    1523.854819          0.490222   \n",
      "3        953.507028              1388.900588    1703.675641          0.471419   \n",
      "4        583.723148              1369.361115    1804.776069          0.488760   \n",
      "...             ...                      ...            ...               ...   \n",
      "1285     775.182748               500.000000    1888.682750          0.438236   \n",
      "1286     790.943335               500.000000    1886.235115          0.505137   \n",
      "1287     819.765355               500.000000    1863.625903          0.578804   \n",
      "1288     848.173172               500.000000    1831.240049          0.563120   \n",
      "1289     216.835217               947.868718    1992.714877          0.839729   \n",
      "\n",
      "      2020_pawc_mean  2020_precipitation_mean  \n",
      "0           0.200000              2158.559651  \n",
      "1           0.188072              1775.285645  \n",
      "2           0.110000              1545.628443  \n",
      "3           0.132220              1569.897911  \n",
      "4           0.132453              1725.692879  \n",
      "...              ...                      ...  \n",
      "1285        0.210000              1293.077805  \n",
      "1286        0.210000              1254.510108  \n",
      "1287        0.210000              1233.416377  \n",
      "1288        0.210000              1223.720071  \n",
      "1289        0.135976              1963.222584  \n",
      "\n",
      "[1290 rows x 6 columns]\n"
     ]
    }
   ],
   "source": [
    "print(df_zstats)\n",
    "pd.DataFrame(df_zstats).to_csv('sample.csv')    "
   ]
  },
  {
   "cell_type": "code",
   "execution_count": 10,
   "metadata": {},
   "outputs": [
    {
     "name": "stdout",
     "output_type": "stream",
     "text": [
      "Final input data shape: (1256, 43)\n",
      "Independent variables: (1256, 5)\n",
      "Dependent variable: (1256, 1)\n",
      "Start MGWR ....\n"
     ]
    },
    {
     "name": "stderr",
     "output_type": "stream",
     "text": [
      "c:\\Users\\fardh\\anaconda3\\envs\\mgwr38-GEEMAP\\lib\\site-packages\\spglm\\iwls.py:37: LinAlgWarning: Ill-conditioned matrix (rcond=7.54378e-18): result may not be accurate.\n",
      "  xtx_inv_xt = linalg.solve(xtx, xT)\n",
      "c:\\Users\\fardh\\anaconda3\\envs\\mgwr38-GEEMAP\\lib\\site-packages\\spglm\\iwls.py:37: LinAlgWarning: Ill-conditioned matrix (rcond=2.46272e-17): result may not be accurate.\n",
      "  xtx_inv_xt = linalg.solve(xtx, xT)\n",
      "c:\\Users\\fardh\\anaconda3\\envs\\mgwr38-GEEMAP\\lib\\site-packages\\spglm\\iwls.py:37: LinAlgWarning: Ill-conditioned matrix (rcond=2.90591e-17): result may not be accurate.\n",
      "  xtx_inv_xt = linalg.solve(xtx, xT)\n",
      "c:\\Users\\fardh\\anaconda3\\envs\\mgwr38-GEEMAP\\lib\\site-packages\\spglm\\iwls.py:37: LinAlgWarning: Ill-conditioned matrix (rcond=3.51595e-17): result may not be accurate.\n",
      "  xtx_inv_xt = linalg.solve(xtx, xT)\n",
      "c:\\Users\\fardh\\anaconda3\\envs\\mgwr38-GEEMAP\\lib\\site-packages\\spglm\\iwls.py:37: LinAlgWarning: Ill-conditioned matrix (rcond=2.6974e-17): result may not be accurate.\n",
      "  xtx_inv_xt = linalg.solve(xtx, xT)\n",
      "c:\\Users\\fardh\\anaconda3\\envs\\mgwr38-GEEMAP\\lib\\site-packages\\spglm\\iwls.py:37: LinAlgWarning: Ill-conditioned matrix (rcond=2.54242e-17): result may not be accurate.\n",
      "  xtx_inv_xt = linalg.solve(xtx, xT)\n",
      "c:\\Users\\fardh\\anaconda3\\envs\\mgwr38-GEEMAP\\lib\\site-packages\\spglm\\iwls.py:37: LinAlgWarning: Ill-conditioned matrix (rcond=7.23801e-18): result may not be accurate.\n",
      "  xtx_inv_xt = linalg.solve(xtx, xT)\n",
      "c:\\Users\\fardh\\anaconda3\\envs\\mgwr38-GEEMAP\\lib\\site-packages\\spglm\\iwls.py:37: LinAlgWarning: Ill-conditioned matrix (rcond=1.03282e-17): result may not be accurate.\n",
      "  xtx_inv_xt = linalg.solve(xtx, xT)\n",
      "c:\\Users\\fardh\\anaconda3\\envs\\mgwr38-GEEMAP\\lib\\site-packages\\spglm\\iwls.py:37: LinAlgWarning: Ill-conditioned matrix (rcond=3.37642e-17): result may not be accurate.\n",
      "  xtx_inv_xt = linalg.solve(xtx, xT)\n",
      "c:\\Users\\fardh\\anaconda3\\envs\\mgwr38-GEEMAP\\lib\\site-packages\\spglm\\iwls.py:37: LinAlgWarning: Ill-conditioned matrix (rcond=1.54186e-17): result may not be accurate.\n",
      "  xtx_inv_xt = linalg.solve(xtx, xT)\n",
      "c:\\Users\\fardh\\anaconda3\\envs\\mgwr38-GEEMAP\\lib\\site-packages\\spglm\\iwls.py:37: LinAlgWarning: Ill-conditioned matrix (rcond=2.33856e-17): result may not be accurate.\n",
      "  xtx_inv_xt = linalg.solve(xtx, xT)\n",
      "c:\\Users\\fardh\\anaconda3\\envs\\mgwr38-GEEMAP\\lib\\site-packages\\spglm\\iwls.py:37: LinAlgWarning: Ill-conditioned matrix (rcond=9.13882e-18): result may not be accurate.\n",
      "  xtx_inv_xt = linalg.solve(xtx, xT)\n",
      "c:\\Users\\fardh\\anaconda3\\envs\\mgwr38-GEEMAP\\lib\\site-packages\\spglm\\iwls.py:37: LinAlgWarning: Ill-conditioned matrix (rcond=6.31055e-17): result may not be accurate.\n",
      "  xtx_inv_xt = linalg.solve(xtx, xT)\n",
      "c:\\Users\\fardh\\anaconda3\\envs\\mgwr38-GEEMAP\\lib\\site-packages\\spglm\\iwls.py:37: LinAlgWarning: Ill-conditioned matrix (rcond=1.49141e-17): result may not be accurate.\n",
      "  xtx_inv_xt = linalg.solve(xtx, xT)\n",
      "c:\\Users\\fardh\\anaconda3\\envs\\mgwr38-GEEMAP\\lib\\site-packages\\spglm\\iwls.py:37: LinAlgWarning: Ill-conditioned matrix (rcond=1.36325e-17): result may not be accurate.\n",
      "  xtx_inv_xt = linalg.solve(xtx, xT)\n",
      "c:\\Users\\fardh\\anaconda3\\envs\\mgwr38-GEEMAP\\lib\\site-packages\\spglm\\iwls.py:37: LinAlgWarning: Ill-conditioned matrix (rcond=1.97685e-17): result may not be accurate.\n",
      "  xtx_inv_xt = linalg.solve(xtx, xT)\n",
      "c:\\Users\\fardh\\anaconda3\\envs\\mgwr38-GEEMAP\\lib\\site-packages\\spglm\\iwls.py:37: LinAlgWarning: Ill-conditioned matrix (rcond=2.20104e-17): result may not be accurate.\n",
      "  xtx_inv_xt = linalg.solve(xtx, xT)\n",
      "c:\\Users\\fardh\\anaconda3\\envs\\mgwr38-GEEMAP\\lib\\site-packages\\spglm\\iwls.py:37: LinAlgWarning: Ill-conditioned matrix (rcond=1.61228e-17): result may not be accurate.\n",
      "  xtx_inv_xt = linalg.solve(xtx, xT)\n",
      "c:\\Users\\fardh\\anaconda3\\envs\\mgwr38-GEEMAP\\lib\\site-packages\\spglm\\iwls.py:37: LinAlgWarning: Ill-conditioned matrix (rcond=1.32106e-17): result may not be accurate.\n",
      "  xtx_inv_xt = linalg.solve(xtx, xT)\n",
      "c:\\Users\\fardh\\anaconda3\\envs\\mgwr38-GEEMAP\\lib\\site-packages\\spglm\\iwls.py:37: LinAlgWarning: Ill-conditioned matrix (rcond=2.33684e-17): result may not be accurate.\n",
      "  xtx_inv_xt = linalg.solve(xtx, xT)\n",
      "c:\\Users\\fardh\\anaconda3\\envs\\mgwr38-GEEMAP\\lib\\site-packages\\spglm\\iwls.py:37: LinAlgWarning: Ill-conditioned matrix (rcond=8.34041e-17): result may not be accurate.\n",
      "  xtx_inv_xt = linalg.solve(xtx, xT)\n"
     ]
    },
    {
     "data": {
      "application/vnd.jupyter.widget-view+json": {
       "model_id": "4dec85a348d6454e88396b2fc3ba047d",
       "version_major": 2,
       "version_minor": 0
      },
      "text/plain": [
       "Backfitting:   0%|          | 0/200 [00:00<?, ?it/s]"
      ]
     },
     "metadata": {},
     "output_type": "display_data"
    },
    {
     "name": "stdout",
     "output_type": "stream",
     "text": [
      "MGWR bandwidth: [10. 12. 16. 54. 12. 12.]\n"
     ]
    },
    {
     "data": {
      "application/vnd.jupyter.widget-view+json": {
       "model_id": "748d95952f2a45739743fc5b873fde4f",
       "version_major": 2,
       "version_minor": 0
      },
      "text/plain": [
       "Inference:   0%|          | 0/1 [00:00<?, ?it/s]"
      ]
     },
     "metadata": {},
     "output_type": "display_data"
    },
    {
     "name": "stdout",
     "output_type": "stream",
     "text": [
      "===========================================================================\n",
      "Model type                                                         Gaussian\n",
      "Number of observations:                                                1256\n",
      "Number of covariates:                                                     6\n",
      "\n",
      "Global Regression Results\n",
      "---------------------------------------------------------------------------\n",
      "Residual sum of squares:                                            145.408\n",
      "Log-likelihood:                                                    -428.127\n",
      "AIC:                                                                868.254\n",
      "AICc:                                                               870.344\n",
      "BIC:                                                              -8774.202\n",
      "R2:                                                                   0.884\n",
      "Adj. R2:                                                              0.884\n",
      "\n",
      "Variable                              Est.         SE  t(Est/SE)    p-value\n",
      "------------------------------- ---------- ---------- ---------- ----------\n",
      "X0                                  -0.000      0.010     -0.000      1.000\n",
      "X1                                  -0.020      0.013     -1.497      0.134\n",
      "X2                                  -0.880      0.012    -75.865      0.000\n",
      "X3                                  -0.214      0.014    -15.758      0.000\n",
      "X4                                  -0.003      0.013     -0.238      0.812\n",
      "X5                                  -0.278      0.014    -19.762      0.000\n",
      "\n",
      "Multi-Scale Geographically Weighted Regression (MGWR) Results\n",
      "---------------------------------------------------------------------------\n",
      "Spatial kernel:                                           Adaptive bisquare\n",
      "Criterion for optimal bandwidth:                                       AICc\n",
      "Score of Change (SOC) type:                                     Smoothing f\n",
      "Termination criterion for MGWR:                                       1e-05\n",
      "\n",
      "MGWR bandwidths\n",
      "---------------------------------------------------------------------------\n",
      "Variable             Bandwidth      ENP_j   Adj t-val(95%)   Adj alpha(95%)\n",
      "X0                      10.000   6003.667            4.475            0.000\n",
      "X1                      12.000   3024.955            4.324            0.000\n",
      "X2                      16.000   2503.062            4.282            0.000\n",
      "X3                      54.000   -987.394            4.067           -0.000\n",
      "X4                      12.000  -7671.175            4.528           -0.000\n",
      "X5                      12.000  -5344.701            4.450           -0.000\n",
      "\n",
      "Diagnostic information\n",
      "---------------------------------------------------------------------------\n",
      "Residual sum of squares:                                       89340360.022\n",
      "Effective number of parameters (trace(S)):                        -2471.586\n",
      "Degree of freedom (n - trace(S)):                                  3727.586\n",
      "Sigma estimate:                                                     154.814\n",
      "Log-likelihood:                                                   -8798.376\n",
      "AIC:                                                              12655.581\n",
      "AICc:                                                             15930.945\n",
      "BIC:                                                                -32.576\n",
      "R2                                                               -71129.860\n",
      "Adjusted R2                                                      -23953.695\n",
      "\n",
      "Summary Statistics For MGWR Parameter Estimates\n",
      "---------------------------------------------------------------------------\n",
      "Variable                   Mean        STD        Min     Median        Max\n",
      "-------------------- ---------- ---------- ---------- ---------- ----------\n",
      "X0                    -2938.009   3996.995 -11649.214   -555.905   1135.188\n",
      "X1                    -1901.238   3033.721  -9066.379   -181.985   2514.894\n",
      "X2                     -976.438   1486.266  -9179.360   -467.836   3561.075\n",
      "X3                       14.950    193.821   -680.162     25.566    863.707\n",
      "X4                     -917.377   3170.023 -11679.103     -1.289   4305.369\n",
      "X5                     -789.110   2119.309 -10510.358     64.092  12149.490\n",
      "===========================================================================\n",
      "\n",
      "MGWR complete. Elapsed time (minutes): 28.570398330688477\n",
      "Prepare MGWR results for mapping ...\n"
     ]
    }
   ],
   "source": [
    " # Merge zones and zonal statistics data frame\n",
    "gdf = gdf.join(df_zstats)\n",
    "\n",
    "# Clean the data\n",
    "gdf = gdf.dropna()\n",
    "print('Final input data shape: {}'.format(gdf.shape))\n",
    "\n",
    "# Prepare datasets input\n",
    "y = gdf[vars[0]].values.reshape((-1,1))\n",
    "X = gdf[list(vars[1:])].values\n",
    "coords = list(zip(gdf['x_utm'],gdf['y_utm']))\n",
    "\n",
    "print('Independent variables: {}'.format(X.shape))\n",
    "print('Dependent variable: {}'.format(y.shape))\n",
    "\n",
    "X = (X - X.mean(axis=0)) / X.std(axis=0)\n",
    "y = (y - y.mean(axis=0)) / y.std(axis=0)\n",
    "\n",
    "# Calibrate MGWR model\n",
    "print('Start MGWR ....')\n",
    "start_time = time.time()\n",
    "mgwr_selector = Sel_BW(coords, y, X, multi=True)\n",
    "mgwr_bw = mgwr_selector.search(multi_bw_min=[2])\n",
    "print('MGWR bandwidth: {}'.format(mgwr_bw))\n",
    "mgwr_results = MGWR(coords, y, X, mgwr_selector).fit()\n",
    "mgwr_results.summary()\n",
    "elapsed_time = (time.time() - start_time)/60\n",
    "print('MGWR complete. Elapsed time (minutes): '+str(elapsed_time))\n",
    "\n",
    "print('Prepare MGWR results for mapping ...')\n",
    "# Obtain t-vals filtered based on multiple testing correction\n",
    "mgwr_filtered_t = mgwr_results.filter_tvals()\n",
    "\n"
   ]
  },
  {
   "cell_type": "code",
   "execution_count": 12,
   "metadata": {},
   "outputs": [
    {
     "name": "stdout",
     "output_type": "stream",
     "text": [
      "Prepare MGWR results for mapping ...\n",
      "Save output as vector shapefile ....\n"
     ]
    },
    {
     "name": "stderr",
     "output_type": "stream",
     "text": [
      "C:\\Users\\fardh\\AppData\\Local\\Temp\\ipykernel_22768\\465978188.py:38: UserWarning: Column names longer than 10 characters will be truncated when saved to ESRI Shapefile.\n",
      "  gdf.to_file(folder_results + '\\\\shp\\\\output1.shp')\n"
     ]
    },
    {
     "name": "stdout",
     "output_type": "stream",
     "text": [
      "2023-01-21 10:35:17.602888-Done!\n"
     ]
    }
   ],
   "source": [
    "print('Prepare MGWR results for mapping ...')\n",
    "    # Obtain t-vals filtered based on multiple testing correction\n",
    "mgwr_filtered_t = mgwr_results.filter_tvals()\n",
    "\n",
    "    # Plot MGWR parameters\n",
    "for i in range(1, 6):\n",
    "    if i-1==0:\n",
    "        param = 'mgwr_intercept'\n",
    "    else:\n",
    "        param = f'mgwr_b{i}'\n",
    "    \n",
    "    # Add MGWR parameters to GeoDataframe\n",
    "    gdf[param] = mgwr_results.params[:,i-1]\n",
    "    \n",
    "    # Set color map\n",
    "    vmin = gdf[param].min()\n",
    "    vmax = gdf[param].max()\n",
    "    cmap = plt.cm.seismic\n",
    "\n",
    "    # Create scalar mappable for colorbar and stretch colormap across range of data values\n",
    "    sm = plt.cm.ScalarMappable(cmap=cmap, norm=plt.Normalize(vmin=vmin, vmax=vmax))\n",
    "\n",
    "    # Plot\n",
    "    fig, ax = plt.subplots(nrows=1, ncols=1)\n",
    "    fig.set_size_inches(8, 6)\n",
    "    ax.set_title(param, fontsize=10)\n",
    "    gdf.plot(column=param,\n",
    "        ax=ax,\n",
    "        legend=True,\n",
    "        cmap=sm.cmap, vmin=vmin, vmax=vmax, **{'edgecolor':'black', 'alpha':.65})\n",
    "    if (mgwr_filtered_t[:,0] == 0).any(): #If there are insignificant parameters plot gray polygons over them\n",
    "        gdf[mgwr_filtered_t[:,0] == 0].plot(color='lightgrey', ax=ax, **{'edgecolor':'black'})\n",
    "    plt.savefig(folder_results + '\\\\png\\\\'+ param +'.png', dpi=100)\n",
    "    plt.close()\n",
    "\n",
    "print('Save output as vector shapefile ....')\n",
    "with fiona.Env(OSR_WKT_FORMAT='WKT2_2018'):\n",
    "    gdf.to_file(folder_results + '\\\\shp\\\\output1.shp')\n",
    "\n",
    "print('{}-Done!'.format(datetime.now()))"
   ]
  },
  {
   "cell_type": "code",
   "execution_count": null,
   "metadata": {},
   "outputs": [],
   "source": [
    "import ee\n",
    "import geemap"
   ]
  }
 ],
 "metadata": {
  "kernelspec": {
   "display_name": "mgwr38-GEEMAP",
   "language": "python",
   "name": "python3"
  },
  "language_info": {
   "codemirror_mode": {
    "name": "ipython",
    "version": 3
   },
   "file_extension": ".py",
   "mimetype": "text/x-python",
   "name": "python",
   "nbconvert_exporter": "python",
   "pygments_lexer": "ipython3",
   "version": "3.8.13"
  },
  "orig_nbformat": 4,
  "vscode": {
   "interpreter": {
    "hash": "76002033938b449d50a82131dbdce7d5f821fb1e5c6ee8a2c0e9025e7b929f8b"
   }
  }
 },
 "nbformat": 4,
 "nbformat_minor": 2
}
